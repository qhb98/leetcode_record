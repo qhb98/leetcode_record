{
 "cells": [
  {
   "cell_type": "markdown",
   "metadata": {
    "collapsed": true,
    "pycharm": {
     "name": "#%% md\n"
    }
   },
   "source": [
    "\n",
    "## 数据结构 python3 技术栈\n",
    "\n",
    "b站教学视频链接:\n",
    "\n",
    "https://www.bilibili.com/video/BV1sy4y1q79M/?spm_id_from=333.788.video.desc.click&vd_source=7111d4cfa9354342c253c06ecdd64e2f"
   ]
  },
  {
   "cell_type": "code",
   "execution_count": null,
   "outputs": [],
   "source": [
    "# 时间复杂度\n",
    "# 即 算法的执行效率, 算法的执行时间与算法的输入值之间的关系\n",
    "\n",
    "# 空间复杂度\n",
    "# 算法的存储空间与输入值之间的关系"
   ],
   "metadata": {
    "collapsed": false,
    "pycharm": {
     "name": "#%%\n"
    }
   }
  },
  {
   "cell_type": "code",
   "execution_count": 6,
   "outputs": [
    {
     "name": "stdout",
     "output_type": "stream",
     "text": [
      "3\n",
      "[1, 3, 12, 0, 0]\n"
     ]
    }
   ],
   "source": [
    "# ============= 数组 ===============\n",
    "\n",
    "# 数组的3道力扣练习题\n",
    "# 1\n",
    "io_list = [1, 1, 0, 1, 1, 1, 0]\n",
    "count = 0\n",
    "max_count = 0\n",
    "for i in io_list:\n",
    "\tif i == 1:\n",
    "\t\tcount += 1\n",
    "\telse:\n",
    "\t\tmax_count = max(count, max_count)\n",
    "\t\tcount = 0\n",
    "print(max_count)\n",
    "\n",
    "# 2\n",
    "move_list = [0, 1, 0, 3, 12]\n",
    "cp_move_list = [0] * len(move_list)\n",
    "idx = 0\n",
    "for i in range(len(move_list)):\n",
    "\tif move_list[i] != 0:\n",
    "\t\tcp_move_list[idx] = move_list[i]\n",
    "\t\tidx += 1\n",
    "print(cp_move_list)\n",
    "\n",
    "# 3\n"
   ],
   "metadata": {
    "collapsed": false,
    "pycharm": {
     "name": "#%%\n"
    }
   }
  },
  {
   "cell_type": "code",
   "execution_count": 12,
   "outputs": [
    {
     "name": "stdout",
     "output_type": "stream",
     "text": [
      "deque([1, 2, 3]) <class 'collections.deque'>\n",
      "deque([1, 2, 99, 3]) <class 'collections.deque'>\n",
      "99\n",
      "deque([1, 2, 3]) 3\n"
     ]
    }
   ],
   "source": [
    "from collections import deque\n",
    "\n",
    "# 链表 linked list\n",
    "# 单链表 双链表\n",
    "\n",
    "# 创建链表\n",
    "linked_list = deque()\n",
    "linked_list.append(1)\n",
    "linked_list.append(2)\n",
    "linked_list.append(3)\n",
    "print(linked_list, type(linked_list))\n",
    "linked_list.insert(2, 99)\n",
    "print(linked_list, type(linked_list))\n",
    "print(linked_list[2])\n",
    "linked_list.remove(99)\n",
    "print(linked_list, len(linked_list))\n"
   ],
   "metadata": {
    "collapsed": false,
    "pycharm": {
     "name": "#%%\n"
    }
   }
  },
  {
   "cell_type": "code",
   "execution_count": 16,
   "outputs": [
    {
     "name": "stdout",
     "output_type": "stream",
     "text": [
      "deque([1, 2, 3])\n",
      "1\n",
      "1 deque([2, 3])\n",
      "2\n",
      "3\n",
      "deque([0, 1, 2, 3])\n"
     ]
    }
   ],
   "source": [
    "# 队列 queue\n",
    "# 单端队列 双端队列\n",
    "\n",
    "queue = deque()\n",
    "queue.append(1)\n",
    "queue.append(2)\n",
    "queue.append(3)\n",
    "print(queue)\n",
    "tmp1 = queue[0]\n",
    "print(tmp1)\n",
    "# 移除队列元素\n",
    "tmp2 = queue.popleft()\n",
    "print(tmp2, queue)\n",
    "# 判断队列是否为空, 遍历队列\n",
    "while len(queue) != 0:\n",
    "\ttmp = queue.popleft()\n",
    "\tprint(tmp)\n",
    "\n",
    "queue.append(1)\n",
    "queue.append(2)\n",
    "queue.append(3)\n",
    "queue.appendleft(0)\n",
    "print(queue)\n",
    "\n",
    "# 最近的请求次数 933"
   ],
   "metadata": {
    "collapsed": false,
    "pycharm": {
     "name": "#%%\n"
    }
   }
  },
  {
   "cell_type": "code",
   "execution_count": 19,
   "outputs": [
    {
     "name": "stdout",
     "output_type": "stream",
     "text": [
      "[1, 2, 3]\n",
      "3\n",
      "3\n",
      "2\n",
      "1\n"
     ]
    }
   ],
   "source": [
    "# 栈 stack\n",
    "stack = []\n",
    "stack.append(1)\n",
    "stack.append(2)\n",
    "stack.append(3)\n",
    "print(stack)\n",
    "print(stack[-1])\n",
    "tmp = stack.pop()\n",
    "print(tmp)\n",
    "while len(stack) > 0:\n",
    "\ttmp = stack.pop()\n",
    "\tprint(tmp)\n"
   ],
   "metadata": {
    "collapsed": false,
    "pycharm": {
     "name": "#%%\n"
    }
   }
  },
  {
   "cell_type": "code",
   "execution_count": null,
   "outputs": [],
   "source": [
    "# 哈希表 / 散列表\n",
    "\n",
    "\n",
    "\n",
    "\n",
    "\n",
    "\n",
    "\n"
   ],
   "metadata": {
    "collapsed": false,
    "pycharm": {
     "name": "#%%\n"
    }
   }
  }
 ],
 "metadata": {
  "kernelspec": {
   "display_name": "Python 3",
   "language": "python",
   "name": "python3"
  },
  "language_info": {
   "codemirror_mode": {
    "name": "ipython",
    "version": 2
   },
   "file_extension": ".py",
   "mimetype": "text/x-python",
   "name": "python",
   "nbconvert_exporter": "python",
   "pygments_lexer": "ipython2",
   "version": "2.7.6"
  }
 },
 "nbformat": 4,
 "nbformat_minor": 0
}