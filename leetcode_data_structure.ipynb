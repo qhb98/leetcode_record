{
 "cells": [
  {
   "cell_type": "markdown",
   "metadata": {
    "collapsed": true,
    "pycharm": {
     "name": "#%% md\n"
    }
   },
   "source": [
    "\n",
    "## 数据结构 python3 技术栈\n",
    "\n",
    "b站教学视频链接:\n",
    "\n",
    "https://www.bilibili.com/video/BV1sy4y1q79M/?spm_id_from=333.788.video.desc.click&vd_source=7111d4cfa9354342c253c06ecdd64e2f\n",
    "\n",
    "\n",
    "关注微信公众号, 获取力扣题解代码:\n",
    "\t爱学习的饲养员"
   ]
  },
  {
   "cell_type": "code",
   "execution_count": null,
   "outputs": [],
   "source": [
    "# 时间复杂度\n",
    "# 即 算法的执行效率, 算法的执行时间与算法的输入值之间的关系\n",
    "\n",
    "# 空间复杂度\n",
    "# 算法的存储空间与输入值之间的关系"
   ],
   "metadata": {
    "collapsed": false,
    "pycharm": {
     "name": "#%%\n"
    }
   }
  },
  {
   "cell_type": "markdown",
   "source": [
    "============= 数据结构 =================="
   ],
   "metadata": {
    "collapsed": false,
    "pycharm": {
     "name": "#%% md\n"
    }
   }
  },
  {
   "cell_type": "code",
   "execution_count": 6,
   "outputs": [
    {
     "name": "stdout",
     "output_type": "stream",
     "text": [
      "3\n",
      "[1, 3, 12, 0, 0]\n"
     ]
    }
   ],
   "source": [
    "# ============= 数组 ===============\n",
    "\n",
    "# 数组的3道力扣练习题\n",
    "# 1\n",
    "import heapq\n",
    "\n",
    "io_list = [1, 1, 0, 1, 1, 1, 0]\n",
    "count = 0\n",
    "max_count = 0\n",
    "for i in io_list:\n",
    "\tif i == 1:\n",
    "\t\tcount += 1\n",
    "\telse:\n",
    "\t\tmax_count = max(count, max_count)\n",
    "\t\tcount = 0\n",
    "print(max_count)\n",
    "\n",
    "# 2\n",
    "move_list = [0, 1, 0, 3, 12]\n",
    "cp_move_list = [0] * len(move_list)\n",
    "idx = 0\n",
    "for i in range(len(move_list)):\n",
    "\tif move_list[i] != 0:\n",
    "\t\tcp_move_list[idx] = move_list[i]\n",
    "\t\tidx += 1\n",
    "print(cp_move_list)\n",
    "\n",
    "# 3\n"
   ],
   "metadata": {
    "collapsed": false,
    "pycharm": {
     "name": "#%%\n"
    }
   }
  },
  {
   "cell_type": "code",
   "execution_count": 12,
   "outputs": [
    {
     "name": "stdout",
     "output_type": "stream",
     "text": [
      "deque([1, 2, 3]) <class 'collections.deque'>\n",
      "deque([1, 2, 99, 3]) <class 'collections.deque'>\n",
      "99\n",
      "deque([1, 2, 3]) 3\n"
     ]
    }
   ],
   "source": [
    "from collections import deque\n",
    "\n",
    "# 链表 linked list\n",
    "# 单链表 双链表\n",
    "\n",
    "# 创建链表\n",
    "linked_list = deque()\n",
    "linked_list.append(1)\n",
    "linked_list.append(2)\n",
    "linked_list.append(3)\n",
    "print(linked_list, type(linked_list))\n",
    "linked_list.insert(2, 99)\n",
    "print(linked_list, type(linked_list))\n",
    "print(linked_list[2])\n",
    "linked_list.remove(99)\n",
    "print(linked_list, len(linked_list))\n"
   ],
   "metadata": {
    "collapsed": false,
    "pycharm": {
     "name": "#%%\n"
    }
   }
  },
  {
   "cell_type": "code",
   "execution_count": 16,
   "outputs": [
    {
     "name": "stdout",
     "output_type": "stream",
     "text": [
      "deque([1, 2, 3])\n",
      "1\n",
      "1 deque([2, 3])\n",
      "2\n",
      "3\n",
      "deque([0, 1, 2, 3])\n"
     ]
    }
   ],
   "source": [
    "# 队列 queue\n",
    "# 单端队列 双端队列\n",
    "\n",
    "queue = deque()\n",
    "queue.append(1)\n",
    "queue.append(2)\n",
    "queue.append(3)\n",
    "print(queue)\n",
    "tmp1 = queue[0]\n",
    "print(tmp1)\n",
    "# 移除队列元素\n",
    "tmp2 = queue.popleft()\n",
    "print(tmp2, queue)\n",
    "# 判断队列是否为空, 遍历队列\n",
    "while len(queue) != 0:\n",
    "\ttmp = queue.popleft()\n",
    "\tprint(tmp)\n",
    "\n",
    "queue.append(1)\n",
    "queue.append(2)\n",
    "queue.append(3)\n",
    "queue.appendleft(0)\n",
    "print(queue)\n",
    "\n",
    "# 最近的请求次数 933"
   ],
   "metadata": {
    "collapsed": false,
    "pycharm": {
     "name": "#%%\n"
    }
   }
  },
  {
   "cell_type": "code",
   "execution_count": 19,
   "outputs": [
    {
     "name": "stdout",
     "output_type": "stream",
     "text": [
      "[1, 2, 3]\n",
      "3\n",
      "3\n",
      "2\n",
      "1\n"
     ]
    }
   ],
   "source": [
    "# 栈 stack\n",
    "stack = []\n",
    "stack.append(1)\n",
    "stack.append(2)\n",
    "stack.append(3)\n",
    "print(stack)\n",
    "print(stack[-1])\n",
    "tmp = stack.pop()\n",
    "print(tmp)\n",
    "while len(stack) > 0:\n",
    "\ttmp = stack.pop()\n",
    "\tprint(tmp)\n"
   ],
   "metadata": {
    "collapsed": false,
    "pycharm": {
     "name": "#%%\n"
    }
   }
  },
  {
   "cell_type": "code",
   "execution_count": 9,
   "outputs": [
    {
     "name": "stdout",
     "output_type": "stream",
     "text": [
      "['', 'hanmeimei', 'lihua', 'siyangyuan'] {1: 'hanmeimei', 2: 'lihua', 3: 'siyangyuan'}\n",
      "['', '', 'lihua', 'siyangyuan'] {2: 'lihua', 3: 'siyangyuan'}\n",
      "siyangyuan siyangyuan\n",
      "True\n",
      "2\n",
      "True\n",
      "True\n",
      "True\n",
      "False\n"
     ]
    }
   ],
   "source": [
    "# 哈希表 / 散列表\n",
    "\n",
    "# 哈希碰撞: 2个不同的key通过同一个哈希函数得到相同的内存地址 --> 链表解决\n",
    "# 在哈希表里, 访问是不存在的, 其他的搜索 插入 删除等操作都是O(1) 若搜索时发生碰撞, 则时间复杂度就是O(k)\n",
    "\n",
    "# 创建哈希表的方式\n",
    "hash_table = [''] * 4\n",
    "mapping = {}\n",
    "\n",
    "hash_table[1] = 'hanmeimei'\n",
    "hash_table[2] = 'lihua'\n",
    "hash_table[3] = 'siyangyuan'\n",
    "mapping[1] = 'hanmeimei'\n",
    "mapping[2] = 'lihua'\n",
    "mapping[3] = 'siyangyuan'\n",
    "print(hash_table, mapping)\n",
    "hash_table[1] = 'bishi'\n",
    "mapping[1] = 'bishi'\n",
    "hash_table[1] = ''\n",
    "mapping.pop(1)\n",
    "print(hash_table, mapping)\n",
    "print(hash_table[3], mapping[3])\n",
    "# 检查key是否存在\n",
    "print(3 in mapping)\n",
    "print(len(mapping))\n",
    "\n",
    "# 217 重复元素查找\n",
    "s_list = [1, 2, 1, 3, 4, 2, 3]\n",
    "dict = {}\n",
    "for s in s_list:\n",
    "\tif s not in dict.keys():\n",
    "\t\tdict[s] = 1\n",
    "\telse:\n",
    "\t\tdict[s] += 1\n",
    "for i in dict.values():\n",
    "\tif i > 1:\n",
    "\t\tprint(True)\n",
    "print(False)"
   ],
   "metadata": {
    "collapsed": false,
    "pycharm": {
     "name": "#%%\n"
    }
   }
  },
  {
   "cell_type": "code",
   "execution_count": 15,
   "outputs": [
    {
     "name": "stdout",
     "output_type": "stream",
     "text": [
      "{1, 2, 3, 4}\n",
      "True\n",
      "{1, 2, 4}\n",
      "3\n",
      "True\n"
     ]
    }
   ],
   "source": [
    "# 集合 set\n",
    "# 分为hash_set tree_set linked_list_set\n",
    "\n",
    "\n",
    "s = set()\n",
    "s.add(1)\n",
    "s.add(2)\n",
    "s.add(3)\n",
    "s.add(4)\n",
    "s.add(4)\n",
    "print(s)\n",
    "print(2 in s)\n",
    "s.remove(3)\n",
    "print(s)\n",
    "print(len(s))\n",
    "\n",
    "# 217\n",
    "s_list = [1, 2, 1, 3, 4, 2, 3]\n",
    "s_set = set(s_list)\n",
    "if s_set != s_list:\n",
    "\tprint(True)\n",
    "else:\n",
    "\tprint(False)"
   ],
   "metadata": {
    "collapsed": false,
    "pycharm": {
     "name": "#%%\n"
    }
   }
  },
  {
   "cell_type": "code",
   "execution_count": null,
   "outputs": [],
   "source": [
    "# tree 树\n",
    "\n",
    "# 普通二叉树：每个节点最多两个子节点\n",
    "# 满二叉树： 除了叶子节点，每个节点都有左右两个子节点，并且所有的叶子节点都要在同一层上\n",
    "# 完全二叉树：从树的根节点，从上到下，从左到右依次填满节点形成的二叉树\n",
    "\n",
    "# https://www.bilibili.com/video/BV1sy4y1q79M?p=35&spm_id_from=pageDriver&vd_source=7111d4cfa9354342c253c06ecdd64e2f\n",
    "\n",
    "# 遍历二叉树: 前序遍历 中序遍历 后序遍历\n"
   ],
   "metadata": {
    "collapsed": false,
    "pycharm": {
     "name": "#%%\n"
    }
   }
  },
  {
   "cell_type": "code",
   "execution_count": 42,
   "outputs": [
    {
     "name": "stdout",
     "output_type": "stream",
     "text": [
      "[3, 9, 14, 10, 12]\n",
      "4 [9, 10, 14, 12]\n",
      "[-6, -5, -4, -2, -3, -1]\n",
      "[-1] 2\n"
     ]
    }
   ],
   "source": [
    "# heap 堆 : 完全二叉树, 并且, 每个节点大于等于或小于等于孩子节点\n",
    "\n",
    "# 堆不可访问，搜索时间复杂度是O(1), 添加的时间复杂度是O(logN), 删除的时间复杂度是O(logN)\n",
    "# 堆化操作的时间复杂度是O(N)\n",
    "\n",
    "# python 默认创建最小堆, 要创建最大堆的话就需要 * (-1) 的技巧\n",
    "import heapq\n",
    "min_heap = []\n",
    "heapq.heapify(min_heap)\n",
    "heapq.heappush(min_heap, 10)\n",
    "heapq.heappush(min_heap, 9)\n",
    "heapq.heappush(min_heap, 14)\n",
    "heapq.heappush(min_heap, 3)\n",
    "heapq.heappush(min_heap, 12)\n",
    "print(min_heap)\n",
    "\n",
    "heapq.heappop(min_heap)\n",
    "print(len(min_heap), min_heap)\n",
    "\n",
    "\n",
    "# 215\n",
    "k = 5\n",
    "s_list = [3, 2, 1, 5, 6, 4]\n",
    "max_heap = []\n",
    "heapq.heapify(max_heap)\n",
    "for s in s_list:\n",
    "\theapq.heappush(max_heap, s*(-1))\n",
    "print(max_heap)\n",
    "while k > 1:\n",
    "\theapq.heappop(max_heap)\n",
    "\tk -= 1\n",
    "print(max_heap, heapq.heappop(max_heap)*(-1))"
   ],
   "metadata": {
    "collapsed": false,
    "pycharm": {
     "name": "#%%\n"
    }
   }
  },
  {
   "cell_type": "code",
   "execution_count": null,
   "outputs": [],
   "source": [
    "# 图 graph\n",
    "\n",
    "# DFS BFS\n"
   ],
   "metadata": {
    "collapsed": false,
    "pycharm": {
     "name": "#%%\n"
    }
   }
  },
  {
   "cell_type": "markdown",
   "source": [
    "==================== 算法 ====================\n",
    "\n"
   ],
   "metadata": {
    "collapsed": false,
    "pycharm": {
     "name": "#%% md\n"
    }
   }
  },
  {
   "cell_type": "code",
   "execution_count": 63,
   "outputs": [
    {
     "name": "stdout",
     "output_type": "stream",
     "text": [
      "[3, 3, 4, 5]\n",
      "[[5], [4], [3], [3]]\n"
     ]
    }
   ],
   "source": [
    "# 双指针 two pointers\n",
    "\n",
    "# 双向指针\n",
    "# 快慢指针 解决环形问题\n",
    "\n",
    "# 881\n",
    "people = [3, 5, 4, 3]\n",
    "limit = 5\n",
    "res = []\n",
    "first_person = 0\n",
    "second_person = len(people) - 1\n",
    "people.sort()\n",
    "print(people)\n",
    "while second_person - first_person >= 1:\n",
    "\tif people[first_person] + people[second_person] <= limit:\n",
    "\t\tres.append([people[first_person], people[second_person]])\n",
    "\t\tfirst_person += 1\n",
    "\t\tsecond_person -= 1\n",
    "\telse:\n",
    "\t\tres.append([people[second_person]])\n",
    "\t\tsecond_person -= 1\n",
    "if second_person  == first_person:\n",
    "\tres.append([people[first_person]])\n",
    "print(res)"
   ],
   "metadata": {
    "collapsed": false,
    "pycharm": {
     "name": "#%%\n"
    }
   }
  },
  {
   "cell_type": "code",
   "execution_count": null,
   "outputs": [],
   "source": [
    "# 二分查找法 binary search\n",
    "\n",
    "\n"
   ],
   "metadata": {
    "collapsed": false,
    "pycharm": {
     "name": "#%%\n"
    }
   }
  },
  {
   "cell_type": "code",
   "execution_count": null,
   "outputs": [],
   "source": [],
   "metadata": {
    "collapsed": false,
    "pycharm": {
     "name": "#%%\n"
    }
   }
  },
  {
   "cell_type": "code",
   "execution_count": null,
   "outputs": [],
   "source": [],
   "metadata": {
    "collapsed": false,
    "pycharm": {
     "name": "#%%\n"
    }
   }
  }
 ],
 "metadata": {
  "kernelspec": {
   "display_name": "Python 3",
   "language": "python",
   "name": "python3"
  },
  "language_info": {
   "codemirror_mode": {
    "name": "ipython",
    "version": 2
   },
   "file_extension": ".py",
   "mimetype": "text/x-python",
   "name": "python",
   "nbconvert_exporter": "python",
   "pygments_lexer": "ipython2",
   "version": "2.7.6"
  }
 },
 "nbformat": 4,
 "nbformat_minor": 0
}