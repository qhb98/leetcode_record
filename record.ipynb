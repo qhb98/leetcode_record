{
 "cells": [
  {
   "cell_type": "markdown",
   "metadata": {
    "collapsed": true,
    "pycharm": {
     "name": "#%% md\n"
    }
   },
   "source": [
    "力扣官网: https://leetcode.cn/problemset/all/\n",
    "\n",
    "\n",
    "力扣刷题B站链接:\n",
    "\n",
    "https://www.bilibili.com/video/BV14v411n7DF?spm_id_from=333.337.search-card.all.click&vd_source=7111d4cfa9354342c253c06ecdd64e2f\n",
    "\n",
    "https://www.bilibili.com/video/BV1xa411A76q?p=2&vd_source=7111d4cfa9354342c253c06ecdd64e2f"
   ]
  },
  {
   "cell_type": "markdown",
   "source": [
    "## 完全基于python3实现"
   ],
   "metadata": {
    "collapsed": false,
    "pycharm": {
     "name": "#%% md\n"
    }
   }
  },
  {
   "cell_type": "code",
   "source": [
    "# 题1: two sum 两数之和\n",
    "## 方法一: 列表\n",
    "def two_sum1(nums, target):\n",
    "    \"\"\"\n",
    "    type nums: List[int]\n",
    "    type target: int\n",
    "    type result: List[int]\n",
    "    \"\"\"\n",
    "    result = [0, 0]\n",
    "    for i in nums:\n",
    "        i_index = nums.index(i)\n",
    "        next_index = i_index + 1\n",
    "        other = target - i\n",
    "        if other in nums[next_index:]:\n",
    "            result = [i_index, nums[next_index:].index(other) + next_index]\n",
    "            return result\n",
    "    return result\n",
    "\n",
    "\n",
    "print(two_sum1([3, 3], 6))\n",
    "\n",
    "\n",
    "## ===================================================================== ##\n",
    "\n",
    "## 方法二: dict\n",
    "def two_sum2(nums, target):\n",
    "    \"\"\"\n",
    "    type nums: List[int]\n",
    "    type target: int\n",
    "    type result: List[int]\n",
    "    \"\"\"\n",
    "    hm_dict = {}\n",
    "    for i in range(len(nums)):\n",
    "        # print(1, hm_dict, i)\n",
    "        if target - nums[i] not in hm_dict:\n",
    "            hm_dict[nums[i]] = i\n",
    "            # print(2, hm_dict, i)\n",
    "        else:\n",
    "            # print(3, hm_dict, i)\n",
    "            return [hm_dict[target - nums[i]], i]\n",
    "\n",
    "\n",
    "print(two_sum2([1, 2, 4], 6))\n"
   ],
   "metadata": {
    "collapsed": false,
    "pycharm": {
     "name": "#%%\n"
    }
   },
   "execution_count": 16,
   "outputs": [
    {
     "name": "stdout",
     "output_type": "stream",
     "text": [
      "[1, 2]\n"
     ]
    }
   ]
  },
  {
   "cell_type": "code",
   "execution_count": 25,
   "outputs": [
    {
     "name": "stdout",
     "output_type": "stream",
     "text": [
      "<__main__.ListNode object at 0x0000018EDB181588>\n"
     ]
    }
   ],
   "source": [
    "# Definition for singly-linked list.\n",
    "class ListNode:\n",
    "    def __init__(self, val=0, next=None):\n",
    "        self.val = val\n",
    "        self.next = next\n",
    "\n",
    "\n",
    "def add_two_numbers(l1: ListNode, l2: ListNode):\n",
    "    \"\"\"\n",
    "    题2: add two numbers 两数相加\n",
    "    方法一: 递归法\n",
    "\n",
    "    :param l1: Optional[ListNode]\n",
    "    :param l2: Optional[ListNode]\n",
    "    :return: Optional[ListNode]\n",
    "    \"\"\"\n",
    "    total = 0\n",
    "    next1 = 0\n",
    "    dummy = ListNode()\n",
    "    cur = dummy\n",
    "    while (l1 != None and l2 != None):\n",
    "        total = l1.val + l2.val + next1\n",
    "        cur.next = ListNode(total % 10)\n",
    "        next1 = total // 10\n",
    "        cur = cur.next\n",
    "        l1 = l1.next\n",
    "        l2 = l2.next\n",
    "\n",
    "    while l1 != None:\n",
    "        total = l1.val + next1\n",
    "        cur.next = ListNode(total % 10)\n",
    "        next1 = total // 10\n",
    "        cur = cur.next\n",
    "        l1 = l1.next\n",
    "\n",
    "    while l2 != None:\n",
    "        total = l2.val + next1\n",
    "        cur.next = ListNode(total % 10)\n",
    "        next1 = total // 10\n",
    "        cur = cur.next\n",
    "        l2 = l2.next\n",
    "\n",
    "    if next1 != 0:\n",
    "        cur.next = ListNode(next1)\n",
    "\n",
    "    return dummy.next\n",
    "\n",
    "\n",
    "result = add_two_numbers(l1=ListNode([2, 4, 3][0]), l2=ListNode([5, 6, 4][0]))\n",
    "print(result)"
   ],
   "metadata": {
    "collapsed": false,
    "pycharm": {
     "name": "#%%\n"
    }
   }
  },
  {
   "cell_type": "code",
   "execution_count": null,
   "outputs": [],
   "source": [],
   "metadata": {
    "collapsed": false,
    "pycharm": {
     "name": "#%%\n"
    }
   }
  }
 ],
 "metadata": {
  "kernelspec": {
   "display_name": "Python 3",
   "language": "python",
   "name": "python3"
  },
  "language_info": {
   "codemirror_mode": {
    "name": "ipython",
    "version": 2
   },
   "file_extension": ".py",
   "mimetype": "text/x-python",
   "name": "python",
   "nbconvert_exporter": "python",
   "pygments_lexer": "ipython2",
   "version": "2.7.6"
  }
 },
 "nbformat": 4,
 "nbformat_minor": 0
}