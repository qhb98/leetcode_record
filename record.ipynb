{
 "cells": [
  {
   "cell_type": "markdown",
   "metadata": {
    "collapsed": true,
    "pycharm": {
     "name": "#%% md\n"
    }
   },
   "source": [
    "力扣官网: https://leetcode.cn/problemset/all/\n",
    "\n",
    "\n",
    "力扣刷题B站链接:\n",
    "\n",
    "https://www.bilibili.com/video/BV14v411n7DF?spm_id_from=333.337.search-card.all.click&vd_source=7111d4cfa9354342c253c06ecdd64e2f\n",
    "\n",
    "https://www.bilibili.com/video/BV1xa411A76q?p=2&vd_source=7111d4cfa9354342c253c06ecdd64e2f"
   ]
  },
  {
   "cell_type": "markdown",
   "source": [
    "## 完全基于python3实现"
   ],
   "metadata": {
    "collapsed": false,
    "pycharm": {
     "name": "#%% md\n"
    }
   }
  },
  {
   "cell_type": "code",
   "source": [
    "# 题1: two sum 两数之和\n",
    "## 方法一: 列表\n",
    "def two_sum1(nums, target):\n",
    "\t\"\"\"\n",
    "    type nums: List[int]\n",
    "    type target: int\n",
    "    type result: List[int]\n",
    "    \"\"\"\n",
    "\tresult = [0, 0]\n",
    "\tfor i in nums:\n",
    "\t\ti_index = nums.index(i)\n",
    "\t\tnext_index = i_index + 1\n",
    "\t\tother = target - i\n",
    "\t\tif other in nums[next_index:]:\n",
    "\t\t\tresult = [i_index, nums[next_index:].index(other) + next_index]\n",
    "\t\t\treturn result\n",
    "\treturn result\n",
    "\n",
    "\n",
    "print(two_sum1([3, 3], 6))\n",
    "\n",
    "\n",
    "## ===================================================================== ##\n",
    "\n",
    "## 方法二: dict\n",
    "def two_sum2(nums, target):\n",
    "\t\"\"\"\n",
    "    type nums: List[int]\n",
    "    type target: int\n",
    "    type result: List[int]\n",
    "    \"\"\"\n",
    "\thm_dict = {}\n",
    "\tfor i in range(len(nums)):\n",
    "\t\t# print(1, hm_dict, i)\n",
    "\t\tif target - nums[i] not in hm_dict:\n",
    "\t\t\thm_dict[nums[i]] = i\n",
    "\t\t# print(2, hm_dict, i)\n",
    "\t\telse:\n",
    "\t\t\t# print(3, hm_dict, i)\n",
    "\t\t\treturn [hm_dict[target - nums[i]], i]\n",
    "\n",
    "\n",
    "print(two_sum2([1, 2, 4], 6))\n"
   ],
   "metadata": {
    "collapsed": false,
    "pycharm": {
     "name": "#%%\n"
    }
   },
   "execution_count": null,
   "outputs": []
  },
  {
   "cell_type": "code",
   "execution_count": 25,
   "outputs": [
    {
     "name": "stdout",
     "output_type": "stream",
     "text": [
      "<__main__.ListNode object at 0x0000018EDB181588>\n"
     ]
    }
   ],
   "source": [
    "# Definition for singly-linked list.\n",
    "class ListNode:\n",
    "\tdef __init__(self, val=0, next=None):\n",
    "\t\tself.val = val\n",
    "\t\tself.next = next\n",
    "\n",
    "\n",
    "def add_two_numbers(l1: ListNode, l2: ListNode):\n",
    "\t\"\"\"\n",
    "    题2: add two numbers 两数相加\n",
    "    方法一: 递归法\n",
    "\n",
    "    :param l1: Optional[ListNode]\n",
    "    :param l2: Optional[ListNode]\n",
    "    :return: Optional[ListNode]\n",
    "    \"\"\"\n",
    "\ttotal = 0\n",
    "\tnext1 = 0\n",
    "\tdummy = ListNode()\n",
    "\tcur = dummy\n",
    "\twhile (l1 != None and l2 != None):\n",
    "\t\ttotal = l1.val + l2.val + next1\n",
    "\t\tcur.next = ListNode(total % 10)\n",
    "\t\tnext1 = total // 10\n",
    "\t\tcur = cur.next\n",
    "\t\tl1 = l1.next\n",
    "\t\tl2 = l2.next\n",
    "\n",
    "\twhile l1 != None:\n",
    "\t\ttotal = l1.val + next1\n",
    "\t\tcur.next = ListNode(total % 10)\n",
    "\t\tnext1 = total // 10\n",
    "\t\tcur = cur.next\n",
    "\t\tl1 = l1.next\n",
    "\n",
    "\twhile l2 != None:\n",
    "\t\ttotal = l2.val + next1\n",
    "\t\tcur.next = ListNode(total % 10)\n",
    "\t\tnext1 = total // 10\n",
    "\t\tcur = cur.next\n",
    "\t\tl2 = l2.next\n",
    "\n",
    "\tif next1 != 0:\n",
    "\t\tcur.next = ListNode(next1)\n",
    "\n",
    "\treturn dummy.next"
   ],
   "metadata": {
    "collapsed": false,
    "pycharm": {
     "name": "#%%\n"
    }
   }
  },
  {
   "cell_type": "code",
   "execution_count": 3,
   "outputs": [
    {
     "name": "stdout",
     "output_type": "stream",
     "text": [
      "False\n"
     ]
    }
   ],
   "source": [
    "def isValid(s) -> bool:\n",
    "\t\"\"\"\n",
    "    第20题 有效的括号\n",
    "    解法  栈\n",
    "    :param s:\n",
    "    :return:\n",
    "    \"\"\"\n",
    "\tif len(s) == 0:\n",
    "\t\treturn True\n",
    "\ts_stack = []\n",
    "\tfor c in s:\n",
    "\t\tif c == \"(\" or c == \"[\" or c == \"{\":\n",
    "\t\t\ts_stack.append(c)\n",
    "\t\telse:\n",
    "\t\t\tif len(s_stack) == 0:\n",
    "\t\t\t\treturn False\n",
    "\t\t\telse:\n",
    "\t\t\t\ttemp = s_stack.pop()\n",
    "\t\t\t\tif c == \")\":\n",
    "\t\t\t\t\tif temp != \"(\":\n",
    "\t\t\t\t\t\treturn False\n",
    "\t\t\t\telif c == \"]\":\n",
    "\t\t\t\t\tif temp != \"[\":\n",
    "\t\t\t\t\t\treturn False\n",
    "\t\t\t\telif c == \"}\":\n",
    "\t\t\t\t\tif temp != \"{\":\n",
    "\t\t\t\t\t\treturn False\n",
    "\tif len(s_stack) != 0:\n",
    "\t\treturn False\n",
    "\treturn True\n",
    "\n",
    "\n",
    "print(isValid(s=\"()[]}\"))"
   ],
   "metadata": {
    "collapsed": false,
    "pycharm": {
     "name": "#%%\n"
    }
   }
  },
  {
   "cell_type": "code",
   "execution_count": 1,
   "outputs": [],
   "source": [
    "def merge_two_lists(list1, list2):\n",
    "\t\"\"\"\n",
    "    题21  合并两个有序的链表\n",
    "    方法  迭代法\n",
    "    :param list1:  [ListNode]\n",
    "    :param list2: [ListNode]\n",
    "    :return: [ListNode]\n",
    "    \"\"\"\n",
    "\tres = ListNode()\n",
    "\tcur = res\n",
    "\twhile list1 is not None and list2 is not None:\n",
    "\t\tif list1.val <= list2.val:\n",
    "\t\t\tcur.next = list1\n",
    "\t\t\tlist1 = list1.next\n",
    "\t\telse:\n",
    "\t\t\tcur.next = list2\n",
    "\t\t\tlist2 = list2.next\n",
    "\t\tcur = cur.next\n",
    "\tcur.next = list1 or list2\n",
    "\treturn res.next"
   ],
   "metadata": {
    "collapsed": false,
    "pycharm": {
     "name": "#%%\n"
    }
   }
  },
  {
   "cell_type": "code",
   "execution_count": 45,
   "outputs": [
    {
     "name": "stdout",
     "output_type": "stream",
     "text": [
      "node: <__main__.ListNode object at 0x0000018EDCFC0308>  value: 3  next: <__main__.ListNode object at 0x0000018EDB2525C8>\n",
      "node: <__main__.ListNode object at 0x0000018EDB2525C8>  value: 8  next: <__main__.ListNode object at 0x0000018EDB250088>\n",
      "node: <__main__.ListNode object at 0x0000018EDB250088>  value: 1  next: None\n",
      "node: <__main__.ListNode object at 0x0000018EDCFC4348>  value: 1  next: <__main__.ListNode object at 0x0000018EDB14EAC8>\n",
      "node: <__main__.ListNode object at 0x0000018EDB14EAC8>  value: 8  next: <__main__.ListNode object at 0x0000018EDCFC4308>\n",
      "node: <__main__.ListNode object at 0x0000018EDCFC4308>  value: 3  next: None\n"
     ]
    }
   ],
   "source": [
    "# 链表 linked list 的操作\n",
    "# linked list: 一组数据项的集合, 每个数据项都是一个节点的一部分, 每个节点包含指向下一个节点的链接\n",
    "\n",
    "# 定义链表\n",
    "class ListNode(object):\n",
    "\tdef __init__(self):\n",
    "\t\tself.val = None\n",
    "\t\tself.next = None\n",
    "\n",
    "\n",
    "# 对链表进行操作\n",
    "class ListNode_handle:\n",
    "\tdef __init__(self):\n",
    "\t\tself.cur_node = None\n",
    "\n",
    "\tdef add(self, data):\n",
    "\t\t\"\"\"\n",
    "        添加链表节点\n",
    "        :param data:\n",
    "        :return:\n",
    "        \"\"\"\n",
    "\t\t# 增加一个新的node指向之前的node\n",
    "\t\tnode = ListNode()\n",
    "\t\tnode.val = data\n",
    "\t\tnode.next = self.cur_node\n",
    "\t\tself.cur_node = node\n",
    "\t\treturn node\n",
    "\n",
    "\t@staticmethod\n",
    "\tdef print_ListNode(node):\n",
    "\t\t\"\"\"\n",
    "        打印链表\n",
    "        :param node:\n",
    "        :return:\n",
    "        \"\"\"\n",
    "\t\twhile node:\n",
    "\t\t\tprint(\"node:\", node, \" value:\", node.val, \" next:\", node.next)\n",
    "\t\t\tnode = node.next\n",
    "\n",
    "\t@staticmethod\n",
    "\tdef reverse_(nodelist):\n",
    "\t\t\"\"\"\n",
    "        反转链表\n",
    "        :param nodelist:\n",
    "        :return:\n",
    "        \"\"\"\n",
    "\t\tlist_ = []\n",
    "\t\twhile nodelist:\n",
    "\t\t\tlist_.append(nodelist.val)\n",
    "\t\t\tnodelist = nodelist.next\n",
    "\t\t_result = ListNode()\n",
    "\t\tresult_handle = ListNode_handle()\n",
    "\t\tfor i in list_:\n",
    "\t\t\t_result = result_handle.add(i)\n",
    "\t\treturn _result\n",
    "\n",
    "\n",
    "# 实例化一个链表\n",
    "l1 = ListNode()\n",
    "# 实例化一个链表操作\n",
    "ListNode11 = ListNode_handle()\n",
    "# 生成要转成链表的列表\n",
    "l1_list = [1, 8, 3]\n",
    "# 遍历列表\n",
    "for i in l1_list:\n",
    "\t# 逐个加入链表\n",
    "\tl1 = ListNode11.add(i)\n",
    "ListNode11.print_ListNode(l1)\n",
    "l1 = ListNode11.reverse_(l1)\n",
    "ListNode11.print_ListNode(l1)"
   ],
   "metadata": {
    "collapsed": false,
    "pycharm": {
     "name": "#%%\n"
    }
   }
  },
  {
   "cell_type": "markdown",
   "source": [
    "![链表的数据结构图](figure/链表的数据结构.png)\n"
   ],
   "metadata": {
    "collapsed": false
   }
  },
  {
   "cell_type": "code",
   "execution_count": 4,
   "outputs": [
    {
     "name": "stdout",
     "output_type": "stream",
     "text": [
      "['(())', '()()']\n"
     ]
    }
   ],
   "source": [
    "def generate_parenthesis(n):\n",
    "\t\"\"\"\n",
    "    题 22 括号生成\n",
    "    方法: 回溯法\n",
    "    :param n: int\n",
    "    :return:List[str]\n",
    "    \"\"\"\n",
    "\tres = []\n",
    "\tback_tracking(n=n, result=res, left=0, right=0, s=\"\")\n",
    "\treturn res\n",
    "\n",
    "\n",
    "def back_tracking(n, result, left, right, s):\n",
    "\tif right > left:\n",
    "\t\treturn\n",
    "\n",
    "\tif left == n and right == n:\n",
    "\t\tresult.append(s)\n",
    "\t\treturn\n",
    "\n",
    "\tif left < n:\n",
    "\t\tback_tracking(n=n, result=result, left=left + 1, right=right, s=s + \"(\")\n",
    "\n",
    "\tif right < left:\n",
    "\t\tback_tracking(n=n, result=result, left=left, right=right + 1, s=s + \")\")\n",
    "\n",
    "\n",
    "print(generate_parenthesis(2))\n"
   ],
   "metadata": {
    "collapsed": false,
    "pycharm": {
     "name": "#%%\n"
    }
   }
  },
  {
   "cell_type": "markdown",
   "source": [
    "https://zhuanlan.zhihu.com/p/165083789\n",
    "\n",
    "\n",
    "回溯算法:  回溯法（back tracking）（探索与回溯法）是一种选优搜索法，又称为试探法，按选优条件向前搜索，以达到目标。但当探索到某一步时，发现原先选择并不优或达不到目标，就退回到上一步，重新选择，这种走不通就退回再走的技术为回溯法，而满足回溯条件的某个状态的点称为“回溯点”。\n",
    "\n"
   ],
   "metadata": {
    "collapsed": false
   }
  },
  {
   "cell_type": "code",
   "execution_count": 1,
   "outputs": [
    {
     "ename": "AttributeError",
     "evalue": "'list' object has no attribute 'next'",
     "output_type": "error",
     "traceback": [
      "\u001B[1;31m---------------------------------------------------------------------------\u001B[0m",
      "\u001B[1;31mAttributeError\u001B[0m                            Traceback (most recent call last)",
      "\u001B[1;32m~\\AppData\\Local\\Temp\\ipykernel_25496\\2463287833.py\u001B[0m in \u001B[0;36m<module>\u001B[1;34m\u001B[0m\n\u001B[0;32m     24\u001B[0m     \u001B[1;32mreturn\u001B[0m \u001B[0mres\u001B[0m\u001B[1;33m.\u001B[0m\u001B[0mnext\u001B[0m\u001B[1;33m\u001B[0m\u001B[1;33m\u001B[0m\u001B[0m\n\u001B[0;32m     25\u001B[0m \u001B[1;33m\u001B[0m\u001B[0m\n\u001B[1;32m---> 26\u001B[1;33m \u001B[0mres\u001B[0m \u001B[1;33m=\u001B[0m \u001B[0mswap_pairs\u001B[0m\u001B[1;33m(\u001B[0m\u001B[1;33m[\u001B[0m\u001B[1;36m1\u001B[0m\u001B[1;33m,\u001B[0m \u001B[1;36m2\u001B[0m\u001B[1;33m,\u001B[0m \u001B[1;36m3\u001B[0m\u001B[1;33m,\u001B[0m \u001B[1;36m4\u001B[0m\u001B[1;33m]\u001B[0m\u001B[1;33m)\u001B[0m\u001B[1;33m\u001B[0m\u001B[1;33m\u001B[0m\u001B[0m\n\u001B[0m\u001B[0;32m     27\u001B[0m \u001B[0mprint\u001B[0m\u001B[1;33m(\u001B[0m\u001B[0mres\u001B[0m\u001B[1;33m)\u001B[0m\u001B[1;33m\u001B[0m\u001B[1;33m\u001B[0m\u001B[0m\n\u001B[0;32m     28\u001B[0m \u001B[1;33m\u001B[0m\u001B[0m\n",
      "\u001B[1;32m~\\AppData\\Local\\Temp\\ipykernel_25496\\2463287833.py\u001B[0m in \u001B[0;36mswap_pairs\u001B[1;34m(head)\u001B[0m\n\u001B[0;32m      6\u001B[0m     \"\"\"\n\u001B[0;32m      7\u001B[0m     \u001B[1;31m# 边界条件\u001B[0m\u001B[1;33m\u001B[0m\u001B[1;33m\u001B[0m\u001B[1;33m\u001B[0m\u001B[0m\n\u001B[1;32m----> 8\u001B[1;33m     \u001B[1;32mif\u001B[0m \u001B[0mhead\u001B[0m \u001B[1;32mis\u001B[0m \u001B[1;32mNone\u001B[0m \u001B[1;32mor\u001B[0m \u001B[0mhead\u001B[0m\u001B[1;33m.\u001B[0m\u001B[0mnext\u001B[0m \u001B[1;32mis\u001B[0m \u001B[1;32mNone\u001B[0m\u001B[1;33m:\u001B[0m\u001B[1;33m\u001B[0m\u001B[1;33m\u001B[0m\u001B[0m\n\u001B[0m\u001B[0;32m      9\u001B[0m         \u001B[1;32mreturn\u001B[0m \u001B[0mhead\u001B[0m\u001B[1;33m\u001B[0m\u001B[1;33m\u001B[0m\u001B[0m\n\u001B[0;32m     10\u001B[0m     \u001B[1;31m# res -> 1 -> 2 -> 3 -> 4\u001B[0m\u001B[1;33m\u001B[0m\u001B[1;33m\u001B[0m\u001B[1;33m\u001B[0m\u001B[0m\n",
      "\u001B[1;31mAttributeError\u001B[0m: 'list' object has no attribute 'next'"
     ]
    }
   ],
   "source": [
    "def swap_pairs(head):\n",
    "\t\"\"\"\n",
    "    题24  两两交换链表\n",
    "    迭代法\n",
    "    :param head: Optional[ListNode]\n",
    "    :return: Optional[ListNode]\n",
    "    \"\"\"\n",
    "\t# 边界条件\n",
    "\tif head is None or head.next is None:\n",
    "\t\treturn head\n",
    "\t# res -> 1 -> 2 -> 3 -> 4\n",
    "\tres = ListNode()\n",
    "\tres.next = head\n",
    "\tprint(\"head:\", head)\n",
    "\tprint(\"res:\", res)\n",
    "\tcur = res\n",
    "\twhile cur.next is not None and cur.next.next is not None:\n",
    "\t\t# 变量赋值\n",
    "\t\tnxt = head.next\n",
    "\t\ttmp = nxt.next\n",
    "\t\t# 交换\n",
    "\t\tcur.next = nxt\n",
    "\t\tnxt.next = head\n",
    "\t\thead.next = tmp\n",
    "\t\t# 准备下一次交换\n",
    "\t\tcur = head\n",
    "\t\thead = head.next\n",
    "\treturn res.next\n"
   ],
   "metadata": {
    "collapsed": false,
    "pycharm": {
     "name": "#%%\n"
    }
   }
  },
  {
   "cell_type": "code",
   "execution_count": 2,
   "outputs": [
    {
     "name": "stdout",
     "output_type": "stream",
     "text": [
      "4\n"
     ]
    }
   ],
   "source": [
    "def remove_element(nums, val):\n",
    "\t\"\"\"\n",
    "    题27  移除元素\n",
    "    双指针法\n",
    "    :param nums: List[int]\n",
    "    :param val: int\n",
    "    :return: int\n",
    "    \"\"\"\n",
    "\t# 边界条件\n",
    "\tif nums is None or len(nums) == 0:\n",
    "\t\treturn 0\n",
    "\t# 左右指针\n",
    "\tl, r = 0, len(nums) - 1\n",
    "\twhile l < r:\n",
    "\t\twhile l < r and nums[l] != val:\n",
    "\t\t\tl += 1\n",
    "\t\twhile l < r and nums[r] == val:\n",
    "\t\t\tr -= 1\n",
    "\t\t# 交换\n",
    "\t\tnums[l], nums[r] = nums[r], nums[l]\n",
    "\tif nums[l] == val:\n",
    "\t\treturn l\n",
    "\telse:\n",
    "\t\treturn l + 1\n",
    "\n",
    "\n",
    "print(remove_element(nums=[1, 3, 4, 3, 5, 6], val=3))"
   ],
   "metadata": {
    "collapsed": false,
    "pycharm": {
     "name": "#%%\n"
    }
   }
  },
  {
   "cell_type": "code",
   "execution_count": 7,
   "outputs": [
    {
     "name": "stdout",
     "output_type": "stream",
     "text": [
      "4\n"
     ]
    }
   ],
   "source": [
    "def search_insert(nums, target):\n",
    "\t\"\"\"\n",
    "    题35  搜索插入位置\n",
    "    二分法\n",
    "    :param nums: List[int]\n",
    "    :param target: int\n",
    "    :return:  int\n",
    "    \"\"\"\n",
    "\t# 边界条件\n",
    "\tif nums is None or len(nums) == 0:\n",
    "\t\treturn 0\n",
    "\tleft = 0\n",
    "\tright = len(nums) - 1\n",
    "\twhile left < right:\n",
    "\t\tmid = left + (right - left) // 2\n",
    "\t\tif nums[mid] == target:\n",
    "\t\t\treturn mid\n",
    "\t\telif nums[mid] > target:\n",
    "\t\t\tright = mid\n",
    "\t\telse:\n",
    "\t\t\tleft = mid + 1\n",
    "\tif nums[left] >= target:\n",
    "\t\treturn left\n",
    "\telse:\n",
    "\t\treturn left + 1\n",
    "\n",
    "\n",
    "print(search_insert(nums=[1, 3, 5, 6], target=7))"
   ],
   "metadata": {
    "collapsed": false,
    "pycharm": {
     "name": "#%%\n"
    }
   }
  },
  {
   "cell_type": "code",
   "execution_count": 25,
   "outputs": [
    {
     "name": "stdout",
     "output_type": "stream",
     "text": [
      "dict_values([['eat', 'tea', 'ate'], ['tan', 'nat'], ['bat']])\n",
      "[0, 0, 0, 0, 0, 0, 0, 0, 0, 0, 0, 0, 0, 0, 0, 0, 0, 0, 0, 0, 0, 0, 0, 0, 0, 0]\n",
      "[0, 0, 0, 0, 0, 0, 0, 0, 0, 0, 0, 0, 0, 0, 0, 0, 0, 0, 0, 0, 0, 0, 0, 0, 0, 0]\n",
      "[0, 0, 0, 0, 0, 0, 0, 0, 0, 0, 0, 0, 0, 0, 0, 0, 0, 0, 0, 0, 0, 0, 0, 0, 0, 0]\n",
      "[0, 0, 0, 0, 0, 0, 0, 0, 0, 0, 0, 0, 0, 0, 0, 0, 0, 0, 0, 0, 0, 0, 0, 0, 0, 0]\n",
      "[0, 0, 0, 0, 0, 0, 0, 0, 0, 0, 0, 0, 0, 0, 0, 0, 0, 0, 0, 0, 0, 0, 0, 0, 0, 0]\n",
      "[0, 0, 0, 0, 0, 0, 0, 0, 0, 0, 0, 0, 0, 0, 0, 0, 0, 0, 0, 0, 0, 0, 0, 0, 0, 0]\n",
      "dict_values([['eat', 'tea', 'ate'], ['tan', 'nat'], ['bat']])\n"
     ]
    }
   ],
   "source": [
    "def group_anagrams1(strs):\n",
    "\t\"\"\"\n",
    "    题49 字母异位词分组\n",
    "    解法  排序法\n",
    "    :param strs: List[str]\n",
    "    :return: List[List[str]]\n",
    "    \"\"\"\n",
    "\t# 边界条件\n",
    "\tif len(strs) < 2:\n",
    "\t\treturn [strs]\n",
    "\tres = {}\n",
    "\tfor s in strs:\n",
    "\t\ttemp = \"\".join(sorted(s))\n",
    "\t\t# 每次从字典中确认是否存在这个键名, 如果不存在就get一个空\n",
    "\t\tres[temp] = res.get(temp, []) + [s]\n",
    "\t# print(res.get(temp, []))\n",
    "\treturn res.values()\n",
    "\n",
    "\n",
    "def group_anagrams2(strs):\n",
    "\t\"\"\"\n",
    "    题49 字母异位词分组\n",
    "    解法  哈希表法\n",
    "    :param strs: List[str]\n",
    "    :return: List[List[str]]\n",
    "    \"\"\"\n",
    "\tif len(strs) < 2:\n",
    "\t\treturn [strs]\n",
    "\tres = {}\n",
    "\tfor s in strs:\n",
    "\t\tcount_table = [0] * 26\n",
    "\t\tfor c in s:\n",
    "\t\t\tcount_table[ord(c) - ord(\"a\")] += 1\n",
    "\t\tkey = tuple(count_table)\n",
    "\t\tres[key] = res.get(key, []) + [s]\n",
    "\treturn res.values()\n",
    "\n",
    "\n",
    "print(group_anagrams1(strs=[\"eat\", \"tea\", \"tan\", \"ate\", \"nat\", \"bat\"]))\n",
    "print(group_anagrams2(strs=[\"eat\", \"tea\", \"tan\", \"ate\", \"nat\", \"bat\"]))"
   ],
   "metadata": {
    "collapsed": false,
    "pycharm": {
     "name": "#%%\n"
    }
   }
  },
  {
   "cell_type": "code",
   "execution_count": 29,
   "outputs": [
    {
     "name": "stdout",
     "output_type": "stream",
     "text": [
      "[[1, 2, 3, 4], [1, 2, 4, 3], [1, 3, 2, 4], [1, 3, 4, 2], [1, 4, 2, 3], [1, 4, 3, 2], [2, 1, 3, 4], [2, 1, 4, 3], [2, 3, 1, 4], [2, 3, 4, 1], [2, 4, 1, 3], [2, 4, 3, 1], [3, 1, 2, 4], [3, 1, 4, 2], [3, 2, 1, 4], [3, 2, 4, 1], [3, 4, 1, 2], [3, 4, 2, 1], [4, 1, 2, 3], [4, 1, 3, 2], [4, 2, 1, 3], [4, 2, 3, 1], [4, 3, 1, 2], [4, 3, 2, 1]]\n"
     ]
    }
   ],
   "source": [
    "def permute(nums):\n",
    "\t\"\"\"\n",
    "    题46  全排列\n",
    "    解法 回溯法\n",
    "    :param nums: List[int]\n",
    "    :return: List[List[int]]\n",
    "    \"\"\"\n",
    "\t# 考虑边界条件\n",
    "\tif nums is None or len(nums) == 1:\n",
    "\t\treturn nums\n",
    "\t# 回溯\n",
    "\telse:\n",
    "\t\tres = []\n",
    "\t\tvisited = {}\n",
    "\t\tfor num in nums:\n",
    "\t\t\tvisited[num] = False\n",
    "\t\tback_tracking1(nums=nums, result=res, visited=visited, s_list=[])\n",
    "\t\treturn res\n",
    "\n",
    "\n",
    "def back_tracking1(nums, result, visited, s_list):\n",
    "\tif len(s_list) == len(nums):\n",
    "\t\tresult.append(s_list[:])\n",
    "\t\treturn\n",
    "\n",
    "\tfor num in nums:\n",
    "\t\tif not visited[num]:\n",
    "\t\t\ts_list.append(num)\n",
    "\t\t\tvisited[num] = True\n",
    "\t\t\tback_tracking1(nums=nums, result=result, visited=visited, s_list=s_list)\n",
    "\t\t\ts_list.pop()\n",
    "\t\t\tvisited[num] = False\n",
    "\n",
    "\n",
    "print(permute(nums=[1, 2, 3, 4]))"
   ],
   "metadata": {
    "collapsed": false,
    "pycharm": {
     "name": "#%%\n"
    }
   }
  },
  {
   "cell_type": "code",
   "execution_count": 34,
   "outputs": [
    {
     "name": "stdout",
     "output_type": "stream",
     "text": [
      "6\n",
      "6\n"
     ]
    }
   ],
   "source": [
    "def max_sub_array1(nums):\n",
    "\t\"\"\"\n",
    "    题53  最大子序和\n",
    "    解法 暴力法\n",
    "    :param nums: List[int]\n",
    "    :return: int\n",
    "    \"\"\"\n",
    "\tres = float('-inf')\n",
    "\tfor i in range(0, len(nums)):\n",
    "\t\ttmp = 0\n",
    "\t\tfor j in range(i, len(nums)):\n",
    "\t\t\ttmp = tmp + nums[j]\n",
    "\t\t\tres = max(res, tmp)\n",
    "\treturn res\n",
    "\n",
    "\n",
    "def max_sub_array2(nums) -> int:\n",
    "\t\"\"\"\n",
    "    题53  最大子序和\n",
    "    解法: 动态规划算法\n",
    "    :param nums: List[int]\n",
    "    :return: int\n",
    "    \"\"\"\n",
    "\tdp = [0] * len(nums)\n",
    "\tdp[0] = nums[0]\n",
    "\t# res = nums[0]\n",
    "\tfor i in range(1, len(nums)):\n",
    "\t\tdp[i] = max(dp[i - 1] + nums[i], nums[i])\n",
    "\t# res = max(res, dp[i])\n",
    "\treturn max(dp)\n",
    "\n",
    "\n",
    "print(max_sub_array1(nums=[-2, 1, -3, 4, -1, 2, 1, -5, 4]))\n",
    "print(max_sub_array2(nums=[-2, 1, -3, 4, -1, 2, 1, -5, 4]))"
   ],
   "metadata": {
    "collapsed": false,
    "pycharm": {
     "name": "#%%\n"
    }
   }
  },
  {
   "cell_type": "code",
   "execution_count": 37,
   "outputs": [
    {
     "name": "stdout",
     "output_type": "stream",
     "text": [
      "[[1, 3], [1, 6], [2, 6], [8, 10]]\n"
     ]
    }
   ],
   "source": [
    "def insert2(intervals, new_interval):\n",
    "\t\"\"\"\n",
    "\t题57  插入区间\n",
    "\t解法  排序法\n",
    "\t:param intervals: List[List[int]]\n",
    "\t:param new_interval:  List[int]\n",
    "\t:return: List[List[int]]\n",
    "\t\"\"\"\n",
    "\tres = []\n",
    "\t# 先考虑边界条件\n",
    "\tif intervals is None or new_interval is None:\n",
    "\t\treturn intervals or new_interval\n",
    "\tif len(intervals) == 0:\n",
    "\t\tres.append(new_interval)\n",
    "\t\treturn res\n",
    "\telif len(new_interval) == 0:\n",
    "\t\treturn intervals\n",
    "\tintervals.append(new_interval)\n",
    "\t# 先排序\n",
    "\tintervals.sort(key=lambda x: x[0])\n",
    "\tfor interval in intervals:\n",
    "\t\tif len(res) == 0 or res[-1][1] < interval[0]:\n",
    "\t\t\tres.append(interval)\n",
    "\t\telse:\n",
    "\t\t\tres[-1][1] = max(interval[1], res[-1][1])\n",
    "\treturn res\n",
    "\n",
    "\n",
    "print(insert2(intervals=[[1, 3], [6, 9]], new_interval=[2, 5]))"
   ],
   "metadata": {
    "collapsed": false,
    "pycharm": {
     "name": "#%%\n"
    }
   }
  },
  {
   "cell_type": "code",
   "execution_count": null,
   "outputs": [],
   "source": [
    "def combine(n, k):\n",
    "\t\"\"\"\n",
    "\t题 77 组合问题\n",
    "\t回溯算法\n",
    "\t:param n: int\n",
    "\t:param k: int\n",
    "\t:return: List[List[int]]\n",
    "\t\"\"\"\n",
    "\t# 先考虑边界条件\n",
    "\tif n == 0 or k == 0 or k > n:\n",
    "\t\treturn []\n",
    "\telif n == 1:\n",
    "\t\treturn [1]\n",
    "\telse:\n",
    "\t\tresult = []\n",
    "\t\tback_tracking2(n, result, k, num=1, tmp_res=[])\n",
    "\t\treturn result\n",
    "\n",
    "\n",
    "def back_tracking2(n, result, k, num, tmp_res):\n",
    "\tif len(tmp_res) == k:\n",
    "\t\tresult.append(tmp_res[:])\n",
    "\t\treturn\n",
    "\n",
    "\tfor s in range(num, n + 1):\n",
    "\t\ttmp_res.append(s)\n",
    "\t\tback_tracking(n, result, k, s + 1, tmp_res)\n",
    "\t\ttmp_res.pop()\n",
    "\n",
    "\n",
    "print(combine(4, 2))"
   ],
   "metadata": {
    "collapsed": false,
    "pycharm": {
     "name": "#%%\n"
    }
   }
  },
  {
   "cell_type": "code",
   "execution_count": null,
   "outputs": [],
   "source": [
    "def subsets(nums):\n",
    "\t\"\"\"\n",
    "    题78  子集\n",
    "    解法\n",
    "    :param nums: List[int]\n",
    "    :return:  List[List[int]]\n",
    "    \"\"\"\n",
    "\n"
   ],
   "metadata": {
    "collapsed": false,
    "pycharm": {
     "name": "#%%\n"
    }
   }
  },
  {
   "cell_type": "markdown",
   "source": [
    " list 和 list[:]  的区别: 第一个引用原始列表;  第二个指向原始列表的副本\n",
    "\n",
    "https://www.itranslater.com/qa/details/2582610484604175360\n",
    "\n",
    "![列表的引用](figure/列表的引用.png)"
   ],
   "metadata": {
    "collapsed": false
   }
  },
  {
   "cell_type": "code",
   "execution_count": null,
   "outputs": [],
   "source": [
    "# 169 寻找多数元素\n",
    "s = [2, 2, 1, 1, 1, 2, 2]\n",
    "dict = {}\n",
    "count = 0\n",
    "for i in s:\n",
    "\tdict[i] = dict.get(i, 0) + 1\n",
    "print(dict)\n",
    "max = 0\n",
    "max_key = 0\n",
    "for k, v in dict.items():\n",
    "\tif v > max:\n",
    "\t\tmax = v\n",
    "\t\tmax_key = k\n",
    "print(max_key, max)\n"
   ],
   "metadata": {
    "collapsed": false,
    "pycharm": {
     "name": "#%%\n"
    }
   }
  }
 ],
 "metadata": {
  "kernelspec": {
   "display_name": "Python 3",
   "language": "python",
   "name": "python3"
  },
  "language_info": {
   "codemirror_mode": {
    "name": "ipython",
    "version": 2
   },
   "file_extension": ".py",
   "mimetype": "text/x-python",
   "name": "python",
   "nbconvert_exporter": "python",
   "pygments_lexer": "ipython2",
   "version": "2.7.6"
  }
 },
 "nbformat": 4,
 "nbformat_minor": 0
}