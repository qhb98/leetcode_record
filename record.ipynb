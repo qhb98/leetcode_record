{
 "cells": [
  {
   "cell_type": "markdown",
   "metadata": {
    "collapsed": true,
    "pycharm": {
     "name": "#%% md\n"
    }
   },
   "source": [
    "力扣官网: https://leetcode.cn/problemset/all/\n",
    "\n",
    "\n",
    "力扣刷题B站链接:\n",
    "\n",
    "https://www.bilibili.com/video/BV14v411n7DF?spm_id_from=333.337.search-card.all.click&vd_source=7111d4cfa9354342c253c06ecdd64e2f\n",
    "\n",
    "https://www.bilibili.com/video/BV1xa411A76q?p=2&vd_source=7111d4cfa9354342c253c06ecdd64e2f"
   ]
  },
  {
   "cell_type": "markdown",
   "source": [
    "## 完全基于python3实现"
   ],
   "metadata": {
    "collapsed": false,
    "pycharm": {
     "name": "#%% md\n"
    }
   }
  },
  {
   "cell_type": "code",
   "source": [
    "# 题1: two sum 两数之和\n",
    "## 方法一: 列表\n",
    "def two_sum1(nums, target):\n",
    "    \"\"\"\n",
    "    type nums: List[int]\n",
    "    type target: int\n",
    "    type result: List[int]\n",
    "    \"\"\"\n",
    "    result = [0, 0]\n",
    "    for i in nums:\n",
    "        i_index = nums.index(i)\n",
    "        next_index = i_index + 1\n",
    "        other = target - i\n",
    "        if other in nums[next_index:]:\n",
    "            result = [i_index, nums[next_index:].index(other) + next_index]\n",
    "            return result\n",
    "    return result\n",
    "\n",
    "\n",
    "print(two_sum1([3, 3], 6))\n",
    "\n",
    "\n",
    "## ===================================================================== ##\n",
    "\n",
    "## 方法二: dict\n",
    "def two_sum2(nums, target):\n",
    "    \"\"\"\n",
    "    type nums: List[int]\n",
    "    type target: int\n",
    "    type result: List[int]\n",
    "    \"\"\"\n",
    "    hm_dict = {}\n",
    "    for i in range(len(nums)):\n",
    "        # print(1, hm_dict, i)\n",
    "        if target - nums[i] not in hm_dict:\n",
    "            hm_dict[nums[i]] = i\n",
    "            # print(2, hm_dict, i)\n",
    "        else:\n",
    "            # print(3, hm_dict, i)\n",
    "            return [hm_dict[target - nums[i]], i]\n",
    "\n",
    "\n",
    "print(two_sum2([1, 2, 4], 6))\n"
   ],
   "metadata": {
    "collapsed": false,
    "pycharm": {
     "name": "#%%\n"
    }
   },
   "execution_count": null,
   "outputs": []
  },
  {
   "cell_type": "code",
   "execution_count": 25,
   "outputs": [
    {
     "name": "stdout",
     "output_type": "stream",
     "text": [
      "<__main__.ListNode object at 0x0000018EDB181588>\n"
     ]
    }
   ],
   "source": [
    "# Definition for singly-linked list.\n",
    "class ListNode:\n",
    "    def __init__(self, val=0, next=None):\n",
    "        self.val = val\n",
    "        self.next = next\n",
    "\n",
    "\n",
    "def add_two_numbers(l1: ListNode, l2: ListNode):\n",
    "    \"\"\"\n",
    "    题2: add two numbers 两数相加\n",
    "    方法一: 递归法\n",
    "\n",
    "    :param l1: Optional[ListNode]\n",
    "    :param l2: Optional[ListNode]\n",
    "    :return: Optional[ListNode]\n",
    "    \"\"\"\n",
    "    total = 0\n",
    "    next1 = 0\n",
    "    dummy = ListNode()\n",
    "    cur = dummy\n",
    "    while (l1 != None and l2 != None):\n",
    "        total = l1.val + l2.val + next1\n",
    "        cur.next = ListNode(total % 10)\n",
    "        next1 = total // 10\n",
    "        cur = cur.next\n",
    "        l1 = l1.next\n",
    "        l2 = l2.next\n",
    "\n",
    "    while l1 != None:\n",
    "        total = l1.val + next1\n",
    "        cur.next = ListNode(total % 10)\n",
    "        next1 = total // 10\n",
    "        cur = cur.next\n",
    "        l1 = l1.next\n",
    "\n",
    "    while l2 != None:\n",
    "        total = l2.val + next1\n",
    "        cur.next = ListNode(total % 10)\n",
    "        next1 = total // 10\n",
    "        cur = cur.next\n",
    "        l2 = l2.next\n",
    "\n",
    "    if next1 != 0:\n",
    "        cur.next = ListNode(next1)\n",
    "\n",
    "    return dummy.next"
   ],
   "metadata": {
    "collapsed": false,
    "pycharm": {
     "name": "#%%\n"
    }
   }
  },
  {
   "cell_type": "code",
   "execution_count": 3,
   "outputs": [
    {
     "name": "stdout",
     "output_type": "stream",
     "text": [
      "False\n"
     ]
    }
   ],
   "source": [
    "def isValid(s) -> bool:\n",
    "    \"\"\"\n",
    "    第20题 有效的括号\n",
    "    解法  栈\n",
    "    :param s:\n",
    "    :return:\n",
    "    \"\"\"\n",
    "    if len(s) == 0:\n",
    "        return True\n",
    "    s_stack = []\n",
    "    for c in s:\n",
    "        if c == \"(\" or c == \"[\" or c == \"{\":\n",
    "            s_stack.append(c)\n",
    "        else:\n",
    "            if len(s_stack) == 0:\n",
    "                return False\n",
    "            else:\n",
    "                temp = s_stack.pop()\n",
    "                if c == \")\":\n",
    "                    if temp != \"(\":\n",
    "                        return False\n",
    "                elif c == \"]\":\n",
    "                    if temp != \"[\":\n",
    "                        return False\n",
    "                elif c == \"}\":\n",
    "                    if temp != \"{\":\n",
    "                        return False\n",
    "    if len(s_stack) != 0:\n",
    "        return False\n",
    "    return True\n",
    "\n",
    "\n",
    "print(isValid(s=\"()[]}\"))"
   ],
   "metadata": {
    "collapsed": false,
    "pycharm": {
     "name": "#%%\n"
    }
   }
  },
  {
   "cell_type": "code",
   "execution_count": 1,
   "outputs": [],
   "source": [
    "def merge_two_lists(list1, list2):\n",
    "    \"\"\"\n",
    "    题21  合并两个有序的链表\n",
    "    方法  迭代法\n",
    "    :param list1:  [ListNode]\n",
    "    :param list2: [ListNode]\n",
    "    :return: [ListNode]\n",
    "    \"\"\"\n",
    "    res = ListNode()\n",
    "    cur = res\n",
    "    while list1 is not None and list2 is not None:\n",
    "        if list1.val <= list2.val:\n",
    "            cur.next = list1\n",
    "            list1 = list1.next\n",
    "        else:\n",
    "            cur.next = list2\n",
    "            list2 = list2.next\n",
    "        cur = cur.next\n",
    "    cur.next = list1 or list2\n",
    "    return res.next"
   ],
   "metadata": {
    "collapsed": false,
    "pycharm": {
     "name": "#%%\n"
    }
   }
  },
  {
   "cell_type": "code",
   "execution_count": 45,
   "outputs": [
    {
     "name": "stdout",
     "output_type": "stream",
     "text": [
      "node: <__main__.ListNode object at 0x0000018EDCFC0308>  value: 3  next: <__main__.ListNode object at 0x0000018EDB2525C8>\n",
      "node: <__main__.ListNode object at 0x0000018EDB2525C8>  value: 8  next: <__main__.ListNode object at 0x0000018EDB250088>\n",
      "node: <__main__.ListNode object at 0x0000018EDB250088>  value: 1  next: None\n",
      "node: <__main__.ListNode object at 0x0000018EDCFC4348>  value: 1  next: <__main__.ListNode object at 0x0000018EDB14EAC8>\n",
      "node: <__main__.ListNode object at 0x0000018EDB14EAC8>  value: 8  next: <__main__.ListNode object at 0x0000018EDCFC4308>\n",
      "node: <__main__.ListNode object at 0x0000018EDCFC4308>  value: 3  next: None\n"
     ]
    }
   ],
   "source": [
    "# 链表 linked list 的操作\n",
    "# linked list: 一组数据项的集合, 每个数据项都是一个节点的一部分, 每个节点包含指向下一个节点的链接\n",
    "\n",
    "# 定义链表\n",
    "class ListNode(object):\n",
    "    def __init__(self):\n",
    "        self.val = None\n",
    "        self.next = None\n",
    "\n",
    "\n",
    "# 对链表进行操作\n",
    "class ListNode_handle:\n",
    "    def __init__(self):\n",
    "        self.cur_node = None\n",
    "\n",
    "    def add(self, data):\n",
    "        \"\"\"\n",
    "        添加链表节点\n",
    "        :param data:\n",
    "        :return:\n",
    "        \"\"\"\n",
    "        # 增加一个新的node指向之前的node\n",
    "        node = ListNode()\n",
    "        node.val = data\n",
    "        node.next = self.cur_node\n",
    "        self.cur_node = node\n",
    "        return node\n",
    "\n",
    "    @staticmethod\n",
    "    def print_ListNode(node):\n",
    "        \"\"\"\n",
    "        打印链表\n",
    "        :param node:\n",
    "        :return:\n",
    "        \"\"\"\n",
    "        while node:\n",
    "            print(\"node:\", node, \" value:\", node.val, \" next:\", node.next)\n",
    "            node = node.next\n",
    "\n",
    "    @staticmethod\n",
    "    def reverse_(nodelist):\n",
    "        \"\"\"\n",
    "        反转链表\n",
    "        :param nodelist:\n",
    "        :return:\n",
    "        \"\"\"\n",
    "        list_ = []\n",
    "        while nodelist:\n",
    "            list_.append(nodelist.val)\n",
    "            nodelist = nodelist.next\n",
    "        _result = ListNode()\n",
    "        result_handle = ListNode_handle()\n",
    "        for i in list_:\n",
    "            _result = result_handle.add(i)\n",
    "        return _result\n",
    "\n",
    "\n",
    "# 实例化一个链表\n",
    "l1 = ListNode()\n",
    "# 实例化一个链表操作\n",
    "ListNode11 = ListNode_handle()\n",
    "# 生成要转成链表的列表\n",
    "l1_list = [1, 8, 3]\n",
    "# 遍历列表\n",
    "for i in l1_list:\n",
    "    # 逐个加入链表\n",
    "    l1 = ListNode11.add(i)\n",
    "ListNode11.print_ListNode(l1)\n",
    "l1 = ListNode11.reverse_(l1)\n",
    "ListNode11.print_ListNode(l1)"
   ],
   "metadata": {
    "collapsed": false,
    "pycharm": {
     "name": "#%%\n"
    }
   }
  },
  {
   "cell_type": "markdown",
   "source": [
    "![链表的数据结构图](figure/链表的数据结构.png)\n"
   ],
   "metadata": {
    "collapsed": false
   }
  },
  {
   "cell_type": "code",
   "execution_count": 4,
   "outputs": [
    {
     "name": "stdout",
     "output_type": "stream",
     "text": [
      "['(())', '()()']\n"
     ]
    }
   ],
   "source": [
    "def generate_parenthesis(n):\n",
    "    \"\"\"\n",
    "    题 22 括号生成\n",
    "    方法: 回溯法\n",
    "    :param n: int\n",
    "    :return:List[str]\n",
    "    \"\"\"\n",
    "    res = []\n",
    "    back_tracking(n=n, result=res, left=0, right=0, s=\"\")\n",
    "    return res\n",
    "\n",
    "def back_tracking(n, result, left, right,s):\n",
    "    if right > left:\n",
    "        return\n",
    "\n",
    "    if left == n and right == n:\n",
    "        result.append(s)\n",
    "        return\n",
    "\n",
    "    if left < n:\n",
    "        back_tracking(n=n, result=result, left=left+1, right=right, s=s+\"(\")\n",
    "\n",
    "    if right < left:\n",
    "        back_tracking(n=n, result=result, left=left, right=right+1, s=s+\")\")\n",
    "\n",
    "print(generate_parenthesis(2))\n"
   ],
   "metadata": {
    "collapsed": false,
    "pycharm": {
     "name": "#%%\n"
    }
   }
  },
  {
   "cell_type": "markdown",
   "source": [
    "https://zhuanlan.zhihu.com/p/165083789\n",
    "\n",
    "\n",
    "回溯算法:  回溯法（back tracking）（探索与回溯法）是一种选优搜索法，又称为试探法，按选优条件向前搜索，以达到目标。但当探索到某一步时，发现原先选择并不优或达不到目标，就退回到上一步，重新选择，这种走不通就退回再走的技术为回溯法，而满足回溯条件的某个状态的点称为“回溯点”。\n",
    "\n"
   ],
   "metadata": {
    "collapsed": false
   }
  }
 ],
 "metadata": {
  "kernelspec": {
   "display_name": "Python 3",
   "language": "python",
   "name": "python3"
  },
  "language_info": {
   "codemirror_mode": {
    "name": "ipython",
    "version": 2
   },
   "file_extension": ".py",
   "mimetype": "text/x-python",
   "name": "python",
   "nbconvert_exporter": "python",
   "pygments_lexer": "ipython2",
   "version": "2.7.6"
  }
 },
 "nbformat": 4,
 "nbformat_minor": 0
}