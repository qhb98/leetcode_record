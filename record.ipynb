{
 "cells": [
  {
   "cell_type": "markdown",
   "metadata": {
    "collapsed": true,
    "pycharm": {
     "name": "#%% md\n"
    }
   },
   "source": [
    "力扣官网: https://leetcode.cn/problemset/all/\n",
    "\n",
    "\n",
    "力扣刷题B站链接:\n",
    "\n",
    "https://www.bilibili.com/video/BV14v411n7DF?spm_id_from=333.337.search-card.all.click&vd_source=7111d4cfa9354342c253c06ecdd64e2f\n",
    "\n",
    "https://www.bilibili.com/video/BV1xa411A76q?p=2&vd_source=7111d4cfa9354342c253c06ecdd64e2f"
   ]
  },
  {
   "cell_type": "markdown",
   "source": [
    "## 完全基于python3实现"
   ],
   "metadata": {
    "collapsed": false,
    "pycharm": {
     "name": "#%% md\n"
    }
   }
  },
  {
   "cell_type": "code",
   "source": [
    "# 题1: two sum 两数之和\n",
    "## 方法一: 列表\n",
    "def two_sum1(nums, target):\n",
    "    \"\"\"\n",
    "    type nums: List[int]\n",
    "    type target: int\n",
    "    type result: List[int]\n",
    "    \"\"\"\n",
    "    result = [0, 0]\n",
    "    for i in nums:\n",
    "        i_index = nums.index(i)\n",
    "        next_index = i_index + 1\n",
    "        other = target - i\n",
    "        if other in nums[next_index:]:\n",
    "            result = [i_index, nums[next_index:].index(other) + next_index]\n",
    "            return result\n",
    "    return result\n",
    "\n",
    "\n",
    "print(two_sum1([3, 3], 6))\n",
    "\n",
    "\n",
    "## ===================================================================== ##\n",
    "\n",
    "## 方法二: dict\n",
    "def two_sum2(nums, target):\n",
    "    \"\"\"\n",
    "    type nums: List[int]\n",
    "    type target: int\n",
    "    type result: List[int]\n",
    "    \"\"\"\n",
    "    hm_dict = {}\n",
    "    for i in range(len(nums)):\n",
    "        # print(1, hm_dict, i)\n",
    "        if target - nums[i] not in hm_dict:\n",
    "            hm_dict[nums[i]] = i\n",
    "            # print(2, hm_dict, i)\n",
    "        else:\n",
    "            # print(3, hm_dict, i)\n",
    "            return [hm_dict[target - nums[i]], i]\n",
    "\n",
    "\n",
    "print(two_sum2([1, 2, 4], 6))\n"
   ],
   "metadata": {
    "collapsed": false,
    "pycharm": {
     "name": "#%%\n"
    }
   },
   "execution_count": null,
   "outputs": []
  },
  {
   "cell_type": "code",
   "execution_count": 25,
   "outputs": [
    {
     "name": "stdout",
     "output_type": "stream",
     "text": [
      "<__main__.ListNode object at 0x0000018EDB181588>\n"
     ]
    }
   ],
   "source": [
    "# Definition for singly-linked list.\n",
    "class ListNode:\n",
    "    def __init__(self, val=0, next=None):\n",
    "        self.val = val\n",
    "        self.next = next\n",
    "\n",
    "\n",
    "def add_two_numbers(l1: ListNode, l2: ListNode):\n",
    "    \"\"\"\n",
    "    题2: add two numbers 两数相加\n",
    "    方法一: 递归法\n",
    "\n",
    "    :param l1: Optional[ListNode]\n",
    "    :param l2: Optional[ListNode]\n",
    "    :return: Optional[ListNode]\n",
    "    \"\"\"\n",
    "    total = 0\n",
    "    next1 = 0\n",
    "    dummy = ListNode()\n",
    "    cur = dummy\n",
    "    while (l1 != None and l2 != None):\n",
    "        total = l1.val + l2.val + next1\n",
    "        cur.next = ListNode(total % 10)\n",
    "        next1 = total // 10\n",
    "        cur = cur.next\n",
    "        l1 = l1.next\n",
    "        l2 = l2.next\n",
    "\n",
    "    while l1 != None:\n",
    "        total = l1.val + next1\n",
    "        cur.next = ListNode(total % 10)\n",
    "        next1 = total // 10\n",
    "        cur = cur.next\n",
    "        l1 = l1.next\n",
    "\n",
    "    while l2 != None:\n",
    "        total = l2.val + next1\n",
    "        cur.next = ListNode(total % 10)\n",
    "        next1 = total // 10\n",
    "        cur = cur.next\n",
    "        l2 = l2.next\n",
    "\n",
    "    if next1 != 0:\n",
    "        cur.next = ListNode(next1)\n",
    "\n",
    "    return dummy.next"
   ],
   "metadata": {
    "collapsed": false,
    "pycharm": {
     "name": "#%%\n"
    }
   }
  },
  {
   "cell_type": "code",
   "execution_count": 3,
   "outputs": [
    {
     "name": "stdout",
     "output_type": "stream",
     "text": [
      "False\n"
     ]
    }
   ],
   "source": [
    "def isValid(s) -> bool:\n",
    "    \"\"\"\n",
    "    第20题 有效的括号\n",
    "    解法  栈\n",
    "    :param s:\n",
    "    :return:\n",
    "    \"\"\"\n",
    "    if len(s) == 0:\n",
    "        return True\n",
    "    s_stack = []\n",
    "    for c in s:\n",
    "        if c == \"(\" or c == \"[\" or c == \"{\":\n",
    "            s_stack.append(c)\n",
    "        else:\n",
    "            if len(s_stack) == 0:\n",
    "                return False\n",
    "            else:\n",
    "                temp = s_stack.pop()\n",
    "                if c == \")\":\n",
    "                    if temp != \"(\":\n",
    "                        return False\n",
    "                elif c == \"]\":\n",
    "                    if temp != \"[\":\n",
    "                        return False\n",
    "                elif c == \"}\":\n",
    "                    if temp != \"{\":\n",
    "                        return False\n",
    "    if len(s_stack) != 0:\n",
    "        return False\n",
    "    return True\n",
    "\n",
    "\n",
    "print(isValid(s=\"()[]}\"))"
   ],
   "metadata": {
    "collapsed": false,
    "pycharm": {
     "name": "#%%\n"
    }
   }
  },
  {
   "cell_type": "code",
   "execution_count": 1,
   "outputs": [],
   "source": [
    "def merge_two_lists(list1, list2):\n",
    "    \"\"\"\n",
    "    题21  合并两个有序的链表\n",
    "    方法  迭代法\n",
    "    :param list1:  [ListNode]\n",
    "    :param list2: [ListNode]\n",
    "    :return: [ListNode]\n",
    "    \"\"\"\n",
    "    res = ListNode()\n",
    "    cur = res\n",
    "    while list1 is not None and list2 is not None:\n",
    "        if list1.val <= list2.val:\n",
    "            cur.next = list1\n",
    "            list1 = list1.next\n",
    "        else:\n",
    "            cur.next = list2\n",
    "            list2 = list2.next\n",
    "        cur = cur.next\n",
    "    cur.next = list1 or list2\n",
    "    return res.next"
   ],
   "metadata": {
    "collapsed": false,
    "pycharm": {
     "name": "#%%\n"
    }
   }
  },
  {
   "cell_type": "code",
   "execution_count": 45,
   "outputs": [
    {
     "name": "stdout",
     "output_type": "stream",
     "text": [
      "node: <__main__.ListNode object at 0x0000018EDCFC0308>  value: 3  next: <__main__.ListNode object at 0x0000018EDB2525C8>\n",
      "node: <__main__.ListNode object at 0x0000018EDB2525C8>  value: 8  next: <__main__.ListNode object at 0x0000018EDB250088>\n",
      "node: <__main__.ListNode object at 0x0000018EDB250088>  value: 1  next: None\n",
      "node: <__main__.ListNode object at 0x0000018EDCFC4348>  value: 1  next: <__main__.ListNode object at 0x0000018EDB14EAC8>\n",
      "node: <__main__.ListNode object at 0x0000018EDB14EAC8>  value: 8  next: <__main__.ListNode object at 0x0000018EDCFC4308>\n",
      "node: <__main__.ListNode object at 0x0000018EDCFC4308>  value: 3  next: None\n"
     ]
    }
   ],
   "source": [
    "# 链表 linked list 的操作\n",
    "# linked list: 一组数据项的集合, 每个数据项都是一个节点的一部分, 每个节点包含指向下一个节点的链接\n",
    "\n",
    "# 定义链表\n",
    "class ListNode(object):\n",
    "    def __init__(self):\n",
    "        self.val = None\n",
    "        self.next = None\n",
    "\n",
    "\n",
    "# 对链表进行操作\n",
    "class ListNode_handle:\n",
    "    def __init__(self):\n",
    "        self.cur_node = None\n",
    "\n",
    "    def add(self, data):\n",
    "        \"\"\"\n",
    "        添加链表节点\n",
    "        :param data:\n",
    "        :return:\n",
    "        \"\"\"\n",
    "        # 增加一个新的node指向之前的node\n",
    "        node = ListNode()\n",
    "        node.val = data\n",
    "        node.next = self.cur_node\n",
    "        self.cur_node = node\n",
    "        return node\n",
    "\n",
    "    @staticmethod\n",
    "    def print_ListNode(node):\n",
    "        \"\"\"\n",
    "        打印链表\n",
    "        :param node:\n",
    "        :return:\n",
    "        \"\"\"\n",
    "        while node:\n",
    "            print(\"node:\", node, \" value:\", node.val, \" next:\", node.next)\n",
    "            node = node.next\n",
    "\n",
    "    @staticmethod\n",
    "    def reverse_(nodelist):\n",
    "        \"\"\"\n",
    "        反转链表\n",
    "        :param nodelist:\n",
    "        :return:\n",
    "        \"\"\"\n",
    "        list_ = []\n",
    "        while nodelist:\n",
    "            list_.append(nodelist.val)\n",
    "            nodelist = nodelist.next\n",
    "        _result = ListNode()\n",
    "        result_handle = ListNode_handle()\n",
    "        for i in list_:\n",
    "            _result = result_handle.add(i)\n",
    "        return _result\n",
    "\n",
    "\n",
    "# 实例化一个链表\n",
    "l1 = ListNode()\n",
    "# 实例化一个链表操作\n",
    "ListNode11 = ListNode_handle()\n",
    "# 生成要转成链表的列表\n",
    "l1_list = [1, 8, 3]\n",
    "# 遍历列表\n",
    "for i in l1_list:\n",
    "    # 逐个加入链表\n",
    "    l1 = ListNode11.add(i)\n",
    "ListNode11.print_ListNode(l1)\n",
    "l1 = ListNode11.reverse_(l1)\n",
    "ListNode11.print_ListNode(l1)"
   ],
   "metadata": {
    "collapsed": false,
    "pycharm": {
     "name": "#%%\n"
    }
   }
  },
  {
   "cell_type": "markdown",
   "source": [
    "![链表的数据结构图](figure/链表的数据结构.png)\n"
   ],
   "metadata": {
    "collapsed": false
   }
  },
  {
   "cell_type": "code",
   "execution_count": 4,
   "outputs": [
    {
     "name": "stdout",
     "output_type": "stream",
     "text": [
      "['(())', '()()']\n"
     ]
    }
   ],
   "source": [
    "def generate_parenthesis(n):\n",
    "    \"\"\"\n",
    "    题 22 括号生成\n",
    "    方法: 回溯法\n",
    "    :param n: int\n",
    "    :return:List[str]\n",
    "    \"\"\"\n",
    "    res = []\n",
    "    back_tracking(n=n, result=res, left=0, right=0, s=\"\")\n",
    "    return res\n",
    "\n",
    "\n",
    "def back_tracking(n, result, left, right, s):\n",
    "    if right > left:\n",
    "        return\n",
    "\n",
    "    if left == n and right == n:\n",
    "        result.append(s)\n",
    "        return\n",
    "\n",
    "    if left < n:\n",
    "        back_tracking(n=n, result=result, left=left + 1, right=right, s=s + \"(\")\n",
    "\n",
    "    if right < left:\n",
    "        back_tracking(n=n, result=result, left=left, right=right + 1, s=s + \")\")\n",
    "\n",
    "\n",
    "print(generate_parenthesis(2))\n"
   ],
   "metadata": {
    "collapsed": false,
    "pycharm": {
     "name": "#%%\n"
    }
   }
  },
  {
   "cell_type": "markdown",
   "source": [
    "https://zhuanlan.zhihu.com/p/165083789\n",
    "\n",
    "\n",
    "回溯算法:  回溯法（back tracking）（探索与回溯法）是一种选优搜索法，又称为试探法，按选优条件向前搜索，以达到目标。但当探索到某一步时，发现原先选择并不优或达不到目标，就退回到上一步，重新选择，这种走不通就退回再走的技术为回溯法，而满足回溯条件的某个状态的点称为“回溯点”。\n",
    "\n"
   ],
   "metadata": {
    "collapsed": false
   }
  },
  {
   "cell_type": "code",
   "execution_count": 1,
   "outputs": [
    {
     "ename": "AttributeError",
     "evalue": "'list' object has no attribute 'next'",
     "output_type": "error",
     "traceback": [
      "\u001B[1;31m---------------------------------------------------------------------------\u001B[0m",
      "\u001B[1;31mAttributeError\u001B[0m                            Traceback (most recent call last)",
      "\u001B[1;32m~\\AppData\\Local\\Temp\\ipykernel_25496\\2463287833.py\u001B[0m in \u001B[0;36m<module>\u001B[1;34m\u001B[0m\n\u001B[0;32m     24\u001B[0m     \u001B[1;32mreturn\u001B[0m \u001B[0mres\u001B[0m\u001B[1;33m.\u001B[0m\u001B[0mnext\u001B[0m\u001B[1;33m\u001B[0m\u001B[1;33m\u001B[0m\u001B[0m\n\u001B[0;32m     25\u001B[0m \u001B[1;33m\u001B[0m\u001B[0m\n\u001B[1;32m---> 26\u001B[1;33m \u001B[0mres\u001B[0m \u001B[1;33m=\u001B[0m \u001B[0mswap_pairs\u001B[0m\u001B[1;33m(\u001B[0m\u001B[1;33m[\u001B[0m\u001B[1;36m1\u001B[0m\u001B[1;33m,\u001B[0m \u001B[1;36m2\u001B[0m\u001B[1;33m,\u001B[0m \u001B[1;36m3\u001B[0m\u001B[1;33m,\u001B[0m \u001B[1;36m4\u001B[0m\u001B[1;33m]\u001B[0m\u001B[1;33m)\u001B[0m\u001B[1;33m\u001B[0m\u001B[1;33m\u001B[0m\u001B[0m\n\u001B[0m\u001B[0;32m     27\u001B[0m \u001B[0mprint\u001B[0m\u001B[1;33m(\u001B[0m\u001B[0mres\u001B[0m\u001B[1;33m)\u001B[0m\u001B[1;33m\u001B[0m\u001B[1;33m\u001B[0m\u001B[0m\n\u001B[0;32m     28\u001B[0m \u001B[1;33m\u001B[0m\u001B[0m\n",
      "\u001B[1;32m~\\AppData\\Local\\Temp\\ipykernel_25496\\2463287833.py\u001B[0m in \u001B[0;36mswap_pairs\u001B[1;34m(head)\u001B[0m\n\u001B[0;32m      6\u001B[0m     \"\"\"\n\u001B[0;32m      7\u001B[0m     \u001B[1;31m# 边界条件\u001B[0m\u001B[1;33m\u001B[0m\u001B[1;33m\u001B[0m\u001B[1;33m\u001B[0m\u001B[0m\n\u001B[1;32m----> 8\u001B[1;33m     \u001B[1;32mif\u001B[0m \u001B[0mhead\u001B[0m \u001B[1;32mis\u001B[0m \u001B[1;32mNone\u001B[0m \u001B[1;32mor\u001B[0m \u001B[0mhead\u001B[0m\u001B[1;33m.\u001B[0m\u001B[0mnext\u001B[0m \u001B[1;32mis\u001B[0m \u001B[1;32mNone\u001B[0m\u001B[1;33m:\u001B[0m\u001B[1;33m\u001B[0m\u001B[1;33m\u001B[0m\u001B[0m\n\u001B[0m\u001B[0;32m      9\u001B[0m         \u001B[1;32mreturn\u001B[0m \u001B[0mhead\u001B[0m\u001B[1;33m\u001B[0m\u001B[1;33m\u001B[0m\u001B[0m\n\u001B[0;32m     10\u001B[0m     \u001B[1;31m# res -> 1 -> 2 -> 3 -> 4\u001B[0m\u001B[1;33m\u001B[0m\u001B[1;33m\u001B[0m\u001B[1;33m\u001B[0m\u001B[0m\n",
      "\u001B[1;31mAttributeError\u001B[0m: 'list' object has no attribute 'next'"
     ]
    }
   ],
   "source": [
    "def swap_pairs(head):\n",
    "    \"\"\"\n",
    "    题24  两两交换链表\n",
    "    迭代法\n",
    "    :param head: Optional[ListNode]\n",
    "    :return: Optional[ListNode]\n",
    "    \"\"\"\n",
    "    # 边界条件\n",
    "    if head is None or head.next is None:\n",
    "        return head\n",
    "    # res -> 1 -> 2 -> 3 -> 4\n",
    "    res = ListNode()\n",
    "    res.next = head\n",
    "    print(\"head:\", head)\n",
    "    print(\"res:\", res)\n",
    "    cur = res\n",
    "    while cur.next is not None and cur.next.next is not None:\n",
    "        # 变量赋值\n",
    "        nxt = head.next\n",
    "        tmp = nxt.next\n",
    "        # 交换\n",
    "        cur.next = nxt\n",
    "        nxt.next = head\n",
    "        head.next = tmp\n",
    "        # 准备下一次交换\n",
    "        cur = head\n",
    "        head = head.next\n",
    "    return res.next\n"
   ],
   "metadata": {
    "collapsed": false,
    "pycharm": {
     "name": "#%%\n"
    }
   }
  },
  {
   "cell_type": "code",
   "execution_count": 2,
   "outputs": [
    {
     "name": "stdout",
     "output_type": "stream",
     "text": [
      "4\n"
     ]
    }
   ],
   "source": [
    "def remove_element(nums, val):\n",
    "    \"\"\"\n",
    "    题27  移除元素\n",
    "    双指针法\n",
    "    :param nums: List[int]\n",
    "    :param val: int\n",
    "    :return: int\n",
    "    \"\"\"\n",
    "    # 边界条件\n",
    "    if nums is None or len(nums) == 0:\n",
    "        return 0\n",
    "    # 左右指针\n",
    "    l, r = 0, len(nums) - 1\n",
    "    while l < r:\n",
    "        while l < r and nums[l] != val:\n",
    "            l += 1\n",
    "        while l < r and nums[r] == val:\n",
    "            r -= 1\n",
    "        # 交换\n",
    "        nums[l], nums[r] = nums[r], nums[l]\n",
    "    if nums[l] == val:\n",
    "        return l\n",
    "    else:\n",
    "        return l + 1\n",
    "\n",
    "\n",
    "print(remove_element(nums=[1, 3, 4, 3, 5, 6], val=3))"
   ],
   "metadata": {
    "collapsed": false,
    "pycharm": {
     "name": "#%%\n"
    }
   }
  },
  {
   "cell_type": "code",
   "execution_count": 7,
   "outputs": [
    {
     "name": "stdout",
     "output_type": "stream",
     "text": [
      "4\n"
     ]
    }
   ],
   "source": [
    "def search_insert(nums, target):\n",
    "    \"\"\"\n",
    "    题35  搜索插入位置\n",
    "    二分法\n",
    "    :param nums: List[int]\n",
    "    :param target: int\n",
    "    :return:  int\n",
    "    \"\"\"\n",
    "    # 边界条件\n",
    "    if nums is None or len(nums) == 0:\n",
    "        return 0\n",
    "    left = 0\n",
    "    right = len(nums) - 1\n",
    "    while left < right:\n",
    "        mid = left + (right - left) // 2\n",
    "        if nums[mid] == target:\n",
    "            return mid\n",
    "        elif nums[mid] > target:\n",
    "            right = mid\n",
    "        else:\n",
    "            left = mid + 1\n",
    "    if nums[left] >= target:\n",
    "        return left\n",
    "    else:\n",
    "        return left + 1\n",
    "\n",
    "\n",
    "print(search_insert(nums=[1, 3, 5, 6], target=7))"
   ],
   "metadata": {
    "collapsed": false,
    "pycharm": {
     "name": "#%%\n"
    }
   }
  },
  {
   "cell_type": "code",
   "execution_count": 25,
   "outputs": [
    {
     "name": "stdout",
     "output_type": "stream",
     "text": [
      "dict_values([['eat', 'tea', 'ate'], ['tan', 'nat'], ['bat']])\n",
      "[0, 0, 0, 0, 0, 0, 0, 0, 0, 0, 0, 0, 0, 0, 0, 0, 0, 0, 0, 0, 0, 0, 0, 0, 0, 0]\n",
      "[0, 0, 0, 0, 0, 0, 0, 0, 0, 0, 0, 0, 0, 0, 0, 0, 0, 0, 0, 0, 0, 0, 0, 0, 0, 0]\n",
      "[0, 0, 0, 0, 0, 0, 0, 0, 0, 0, 0, 0, 0, 0, 0, 0, 0, 0, 0, 0, 0, 0, 0, 0, 0, 0]\n",
      "[0, 0, 0, 0, 0, 0, 0, 0, 0, 0, 0, 0, 0, 0, 0, 0, 0, 0, 0, 0, 0, 0, 0, 0, 0, 0]\n",
      "[0, 0, 0, 0, 0, 0, 0, 0, 0, 0, 0, 0, 0, 0, 0, 0, 0, 0, 0, 0, 0, 0, 0, 0, 0, 0]\n",
      "[0, 0, 0, 0, 0, 0, 0, 0, 0, 0, 0, 0, 0, 0, 0, 0, 0, 0, 0, 0, 0, 0, 0, 0, 0, 0]\n",
      "dict_values([['eat', 'tea', 'ate'], ['tan', 'nat'], ['bat']])\n"
     ]
    }
   ],
   "source": [
    " def group_anagrams1(strs):\n",
    "    \"\"\"\n",
    "    题49 字母异位词分组\n",
    "    解法  排序法\n",
    "    :param strs: List[str]\n",
    "    :return: List[List[str]]\n",
    "    \"\"\"\n",
    "    # 边界条件\n",
    "    if len(strs) < 2:\n",
    "        return [strs]\n",
    "    res = {}\n",
    "    for s in strs:\n",
    "        temp = \"\".join(sorted(s))\n",
    "        # 每次从字典中确认是否存在这个键名, 如果不存在就get一个空\n",
    "        res[temp] = res.get(temp, []) + [s]\n",
    "        # print(res.get(temp, []))\n",
    "    return res.values()\n",
    "\n",
    "\n",
    "def group_anagrams2(strs):\n",
    "    \"\"\"\n",
    "    题49 字母异位词分组\n",
    "    解法  哈希表法\n",
    "    :param strs: List[str]\n",
    "    :return: List[List[str]]\n",
    "    \"\"\"\n",
    "    if len(strs) < 2:\n",
    "        return [strs]\n",
    "    res = {}\n",
    "    for s in strs:\n",
    "        count_table = [0] * 26\n",
    "        for c in s:\n",
    "            count_table[ord(c) - ord(\"a\")] += 1\n",
    "        key = tuple(count_table)\n",
    "        res[key] = res.get(key, []) + [s]\n",
    "    return res.values()\n",
    "\n",
    "\n",
    "print(group_anagrams1(strs=[\"eat\", \"tea\", \"tan\", \"ate\", \"nat\", \"bat\"]))\n",
    "print(group_anagrams2(strs=[\"eat\", \"tea\", \"tan\", \"ate\", \"nat\", \"bat\"]))"
   ],
   "metadata": {
    "collapsed": false,
    "pycharm": {
     "name": "#%%\n"
    }
   }
  },
  {
   "cell_type": "code",
   "execution_count": null,
   "outputs": [],
   "source": [
    "def permute(nums):\n",
    "    \"\"\"\n",
    "    题46  全排列\n",
    "    解法 回溯法\n",
    "    :param nums: List[int]\n",
    "    :return: List[List[int]]\n",
    "    \"\"\"\n",
    "    \n",
    "\n",
    "\n",
    "print(permute(nums= [1,2,3]))"
   ],
   "metadata": {
    "collapsed": false,
    "pycharm": {
     "name": "#%%\n"
    }
   }
  }
 ],
 "metadata": {
  "kernelspec": {
   "display_name": "Python 3",
   "language": "python",
   "name": "python3"
  },
  "language_info": {
   "codemirror_mode": {
    "name": "ipython",
    "version": 2
   },
   "file_extension": ".py",
   "mimetype": "text/x-python",
   "name": "python",
   "nbconvert_exporter": "python",
   "pygments_lexer": "ipython2",
   "version": "2.7.6"
  }
 },
 "nbformat": 4,
 "nbformat_minor": 0
}