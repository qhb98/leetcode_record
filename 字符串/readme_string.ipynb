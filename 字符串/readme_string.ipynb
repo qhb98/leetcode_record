{
 "cells": [
  {
   "cell_type": "markdown",
   "source": [
    "## 字符串\n",
    "python中最常用的数据类型之一, 可以使用引号来创建字符串"
   ],
   "metadata": {
    "collapsed": false,
    "pycharm": {
     "name": "#%% md\n"
    }
   }
  },
  {
   "cell_type": "code",
   "execution_count": 2,
   "outputs": [],
   "source": [
    "var1 = \"hello world\"\n",
    "var2 = \"python run\"\n"
   ],
   "metadata": {
    "collapsed": false,
    "pycharm": {
     "name": "#%%\n"
    }
   }
  },
  {
   "cell_type": "code",
   "execution_count": 7,
   "outputs": [
    {
     "name": "stdout",
     "output_type": "stream",
     "text": [
      "h\n",
      "ello\n",
      " \n",
      "w\n"
     ]
    }
   ],
   "source": [
    "# =========  python 访问字符串中的值  ============\n",
    "# python不支持单字符类型, 单字符在python中也是作为一个字符串使用\n",
    "# python访问子字符串, 可以使用[]截取字符串\n",
    "print(var1[0])\n",
    "print(var1[1:5])\n",
    "print(var1[5])\n",
    "print(var1[6])"
   ],
   "metadata": {
    "collapsed": false,
    "pycharm": {
     "name": "#%%\n"
    }
   }
  },
  {
   "cell_type": "code",
   "execution_count": 8,
   "outputs": [
    {
     "name": "stdout",
     "output_type": "stream",
     "text": [
      "输出: -  hello Rub\n"
     ]
    }
   ],
   "source": [
    "# python可以对字符串进行截取, 并与其他字符串进行拼接\n",
    "print(\"输出: - \", var1[:6] + \"Rub\")"
   ],
   "metadata": {
    "collapsed": false,
    "pycharm": {
     "name": "#%%\n"
    }
   }
  },
  {
   "cell_type": "code",
   "execution_count": null,
   "outputs": [],
   "source": [
    "# 转义字符 \\\n",
    "# 字符串运算符\n",
    "# + 字符串连接\n",
    "# * 重复输出字符串\n",
    "# [] 通过索引获取字符串中的字符\n",
    "# [:] 截取字符串中的一部分\n",
    "# in 成员运算符 包含\n",
    "# not in 成员运算符 不包含\n",
    "# % 格式字符串"
   ],
   "metadata": {
    "collapsed": false,
    "pycharm": {
     "name": "#%%\n"
    }
   }
  },
  {
   "cell_type": "code",
   "execution_count": 9,
   "outputs": [
    {
     "name": "stdout",
     "output_type": "stream",
     "text": [
      "my name is Zara and weight is 21 kg !\n"
     ]
    }
   ],
   "source": [
    "# 字符串格式化\n",
    "print(\"my name is %s and weight is %d kg !\" % (\"Zara\", 21))"
   ],
   "metadata": {
    "collapsed": false,
    "pycharm": {
     "name": "#%%\n"
    }
   }
  },
  {
   "cell_type": "code",
   "execution_count": 15,
   "outputs": [
    {
     "name": "stdout",
     "output_type": "stream",
     "text": [
      "my name is Zara and weight is 21.00 kg !\n"
     ]
    }
   ],
   "source": [
    "# 字符串格式化符号\n",
    "# %c 格式化字符及其ASCII码\n",
    "# %s 格式化字符串\n",
    "# %d 格式化整数\n",
    "# %u 格式化无符号整型\n",
    "# %o 格式化无符号整型\n",
    "# %f 格式化浮点数字, 可指定小数点后的精度\n",
    "print(\"my name is %s and weight is %.2f kg !\" % (\"Zara\", 21))"
   ],
   "metadata": {
    "collapsed": false,
    "pycharm": {
     "name": "#%%\n"
    }
   }
  },
  {
   "cell_type": "code",
   "execution_count": null,
   "outputs": [],
   "source": [
    "# - 左对齐"
   ],
   "metadata": {
    "collapsed": false,
    "pycharm": {
     "name": "#%%\n"
    }
   }
  },
  {
   "cell_type": "code",
   "execution_count": null,
   "outputs": [],
   "source": [
    "import string\n",
    "\n",
    "# =========  python的字符串内建函数  ==========\n",
    "# 把字符串的第一个字符大写  string.capitalize()\n",
    "# string.count(str, beg end)  返回str 在string里出现的次数\n",
    "# string.join()  以string作为分隔符, 将seq中所有的元素合并为一个新的字符串"
   ],
   "metadata": {
    "collapsed": false,
    "pycharm": {
     "name": "#%%\n"
    }
   }
  },
  {
   "cell_type": "code",
   "execution_count": null,
   "outputs": [],
   "source": [],
   "metadata": {
    "collapsed": false,
    "pycharm": {
     "name": "#%%\n"
    }
   }
  }
 ],
 "metadata": {
  "kernelspec": {
   "display_name": "Python 3",
   "language": "python",
   "name": "python3"
  },
  "language_info": {
   "codemirror_mode": {
    "name": "ipython",
    "version": 2
   },
   "file_extension": ".py",
   "mimetype": "text/x-python",
   "name": "python",
   "nbconvert_exporter": "python",
   "pygments_lexer": "ipython2",
   "version": "2.7.6"
  }
 },
 "nbformat": 4,
 "nbformat_minor": 0
}